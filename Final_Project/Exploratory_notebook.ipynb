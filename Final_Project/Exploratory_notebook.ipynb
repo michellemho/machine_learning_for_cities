{
 "cells": [
  {
   "cell_type": "markdown",
   "metadata": {},
   "source": [
    "# Project Goal: What attributes lead to best value university? \n",
    "\n",
    "# Steps: \n",
    "\n",
    "## 1) Define value metrics\n",
    "#### Potentially:\n",
    "1) high employment rate for grads n years after graduation <br>\n",
    "2) high salary for grads n years after graduation (MN_EARN_WNE_P7 and/or MN_EARN_WNE_P9) - measured on previous cohort <br>\n",
    "3) low debt (LO_INC_DEBT_MDN, MD_INC_DEBT_MDN, HI_INC_DEBT_MDN) or First Gen v. Not First Gen (FIRST_GEN_DEBT_MDN, NOTFIRSTGEN_DEBT_MDN)  <br>\n",
    "4) debt default rate at 2 years or 3 years out (CDR2 & CDR3) <br> \n",
    "5) high completion percentage C150_4 (Also completion rates for different racial subgroups) <br> \n",
    "6) serves many first gen students (FIRST_GEN) \n",
    "7) Percentage completing within 4, 8 years at the original institution (COMP_ORIG_YR4_RT, COMP_ORIG_YR8_RT)\n",
    "\n",
    "## 2) Control variables\n",
    "#### Potentially: \n",
    "1) Baseline of incoming students <br>\n",
    "    a) selectivity: ADM_RATE_ALL <br> \n",
    "    b) SAT scores: medians (SATVRMID & SATMTMID); means SAT_AVG_ALL - note: many nulls <br> \n",
    "2) Types of degrees awarded (percentage of technical degrees v arts type degrees\n",
    "    a) PCIP 01, 03-05, 09-16, 19, 22-31, 38-52, 54<br> \n",
    "3) Geography? <br> \n",
    "4) Other student demographics? (family income? first year student) \n",
    "\n",
    "## 3) Variables of interest: \n",
    "#### Potentially: \n",
    "1) State or Region? (STABBR or REGION) <br> \n",
    "2) Public/Private Non-Profit/Private For-Profit (CONTROL) <br> \n",
    "3) Avg Cost Overall - AVGCOSTT4_A <br> \n",
    "4) Net Revenue per FT student - TUITFTE <br> \n",
    "5) Instruction Expenditures per Ft student - INEXPFTE\n",
    "\n",
    "\n",
    "## 4) Other Limitations\n",
    "#### Potentially: \n",
    "1) limit to Bachelors degrees \n",
    "\n",
    "\n",
    "## 5) Identify techniques\n",
    "#### Potentially: \n",
    "1) Regressions <br> \n",
    "2) Clusters/Classifiers? - id which schools perform like schools in a different category <br> \n",
    "3) PCA? - probably not interpretable enough for our purposes \n",
    "\n",
    "## 6) Results?? "
   ]
  },
  {
   "cell_type": "code",
   "execution_count": 1,
   "metadata": {
    "collapsed": false
   },
   "outputs": [
    {
     "name": "stdout",
     "output_type": "stream",
     "text": [
      "Populating the interactive namespace from numpy and matplotlib\n"
     ]
    }
   ],
   "source": [
    "import os, sys\n",
    "import pandas as pd\n",
    "import zipfile as zf\n",
    "import requests\n",
    "\n",
    "from sklearn import svm\n",
    "from sklearn.model_selection import train_test_split\n",
    "from sklearn import cluster\n",
    "from sklearn.metrics import confusion_matrix\n",
    "from sklearn.tree import DecisionTreeClassifier\n",
    "from sklearn.ensemble import AdaBoostClassifier\n",
    "from sklearn.ensemble import GradientBoostingClassifier\n",
    "from sklearn.ensemble import RandomForestClassifier\n",
    "from sklearn.ensemble import BaggingClassifier\n",
    "import urllib\n",
    "import itertools\n",
    "import pylab as pl\n",
    "import seaborn as sns\n",
    "\n",
    "from __future__ import division\n",
    "\n",
    "% pylab inline"
   ]
  },
  {
   "cell_type": "code",
   "execution_count": 2,
   "metadata": {
    "collapsed": false
   },
   "outputs": [
    {
     "name": "stderr",
     "output_type": "stream",
     "text": [
      "/Users/shay/anaconda2/lib/python2.7/site-packages/IPython/core/interactiveshell.py:2717: DtypeWarning: Columns (1,6,1461,1561,1729) have mixed types. Specify dtype option on import or set low_memory=False.\n",
      "  interactivity=interactivity, compiler=compiler, result=result)\n"
     ]
    }
   ],
   "source": [
    "try:\n",
    "    df_2010 = pd.read_csv('Data/CollegeScorecard_Raw_Data/MERGED2010_11_PP.csv')\n",
    "#If data not already downloaded, trigger download:\n",
    "except: \n",
    "    url = 'https://ed-public-download.apps.cloud.gov/downloads/CollegeScorecard_Raw_Data.zip'\n",
    "    file_name = url.split('/')[-1]\n",
    "    r = requests.get(url)\n",
    "    with open(file_name, \"wb\") as code:\n",
    "        code.write(r.content)\n",
    "    zipref = zf.ZipFile(file_name, 'r')\n",
    "    zipref.extractall('Data')\n",
    "    zipref.close()\n",
    "    try:\n",
    "        df_2010 = pd.read_csv('Data\\\\CollegeScorecard_Raw_Data\\\\MERGED2010_11_PP.csv')\n",
    "    except(IOError):\n",
    "        df_2010 = pd.read_csv('Data/CollegeScorecard_Raw_Data/MERGED2010_11_PP.csv')"
   ]
  },
  {
   "cell_type": "code",
   "execution_count": 27,
   "metadata": {
    "collapsed": false
   },
   "outputs": [],
   "source": [
    "df_2010 = df_2010[df_2010.ICLEVEL == 1]"
   ]
  },
  {
   "cell_type": "code",
   "execution_count": 63,
   "metadata": {
    "collapsed": false
   },
   "outputs": [
    {
     "data": {
      "text/plain": [
       "0       33800\n",
       "1       44500\n",
       "2       42400\n",
       "3       50200\n",
       "4       29400\n",
       "5       47200\n",
       "7       42100\n",
       "8       35500\n",
       "9       49700\n",
       "10      44700\n",
       "12      23000\n",
       "13      34900\n",
       "16      42500\n",
       "21      41700\n",
       "22      37700\n",
       "23      45800\n",
       "25      35800\n",
       "29      32000\n",
       "31      35700\n",
       "34      27600\n",
       "35      40100\n",
       "36      35600\n",
       "38      37300\n",
       "40      35900\n",
       "45      58100\n",
       "46        NaN\n",
       "49      43300\n",
       "50      46600\n",
       "51      36400\n",
       "52      26700\n",
       "        ...  \n",
       "7383    33500\n",
       "7384    33500\n",
       "7385    56100\n",
       "7386    56100\n",
       "7387    56100\n",
       "7388    56100\n",
       "7389    56100\n",
       "7390    56100\n",
       "7391    56100\n",
       "7392    56100\n",
       "7393    56100\n",
       "7394    56100\n",
       "7395    56100\n",
       "7396    56100\n",
       "7397    56100\n",
       "7398    56100\n",
       "7400    56100\n",
       "7401    56100\n",
       "7402    56100\n",
       "7403    56100\n",
       "7404    56100\n",
       "7405    56100\n",
       "7406    56100\n",
       "7407    56100\n",
       "7408    56100\n",
       "7409    56100\n",
       "7410    56100\n",
       "7411    56100\n",
       "7412    56100\n",
       "7413    56100\n",
       "Name: MN_EARN_WNE_P9, dtype: object"
      ]
     },
     "execution_count": 63,
     "metadata": {},
     "output_type": "execute_result"
    }
   ],
   "source": []
  },
  {
   "cell_type": "code",
   "execution_count": null,
   "metadata": {
    "collapsed": true
   },
   "outputs": [],
   "source": []
  }
 ],
 "metadata": {
  "kernelspec": {
   "display_name": "Python 2",
   "language": "python",
   "name": "python2"
  },
  "language_info": {
   "codemirror_mode": {
    "name": "ipython",
    "version": 2
   },
   "file_extension": ".py",
   "mimetype": "text/x-python",
   "name": "python",
   "nbconvert_exporter": "python",
   "pygments_lexer": "ipython2",
   "version": "2.7.13"
  }
 },
 "nbformat": 4,
 "nbformat_minor": 2
}
