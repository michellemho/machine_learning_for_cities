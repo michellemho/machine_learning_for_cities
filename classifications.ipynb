{
 "cells": [
  {
   "cell_type": "code",
   "execution_count": 3,
   "metadata": {
    "collapsed": false
   },
   "outputs": [
    {
     "name": "stdout",
     "output_type": "stream",
     "text": [
      "Populating the interactive namespace from numpy and matplotlib\n"
     ]
    }
   ],
   "source": [
    "import csv\n",
    "import matplotlib.pyplot as plt\n",
    "import numpy as np\n",
    "import pandas as pd\n",
    "from sklearn import naive_bayes\n",
    "from sklearn import svm\n",
    "from sklearn.cross_validation import train_test_split\n",
    "from sklearn import cluster\n",
    "%pylab inline"
   ]
  },
  {
   "cell_type": "code",
   "execution_count": 13,
   "metadata": {
    "collapsed": false
   },
   "outputs": [
    {
     "data": {
      "text/html": [
       "<div>\n",
       "<table border=\"1\" class=\"dataframe\">\n",
       "  <thead>\n",
       "    <tr style=\"text-align: right;\">\n",
       "      <th></th>\n",
       "      <th>Neighborhood</th>\n",
       "      <th>BldClassif</th>\n",
       "      <th>YearBuilt</th>\n",
       "      <th>GrossSqFt</th>\n",
       "      <th>GrossIncomeSqFt</th>\n",
       "      <th>MarketValueperSqFt</th>\n",
       "    </tr>\n",
       "  </thead>\n",
       "  <tbody>\n",
       "    <tr>\n",
       "      <th>0</th>\n",
       "      <td>0</td>\n",
       "      <td>0</td>\n",
       "      <td>1926</td>\n",
       "      <td>239121</td>\n",
       "      <td>34.0</td>\n",
       "      <td>158.0</td>\n",
       "    </tr>\n",
       "    <tr>\n",
       "      <th>1</th>\n",
       "      <td>0</td>\n",
       "      <td>1</td>\n",
       "      <td>1909</td>\n",
       "      <td>51387</td>\n",
       "      <td>36.5</td>\n",
       "      <td>170.0</td>\n",
       "    </tr>\n",
       "    <tr>\n",
       "      <th>2</th>\n",
       "      <td>0</td>\n",
       "      <td>1</td>\n",
       "      <td>1911</td>\n",
       "      <td>167448</td>\n",
       "      <td>35.8</td>\n",
       "      <td>167.0</td>\n",
       "    </tr>\n",
       "    <tr>\n",
       "      <th>3</th>\n",
       "      <td>1</td>\n",
       "      <td>2</td>\n",
       "      <td>1910</td>\n",
       "      <td>9530</td>\n",
       "      <td>41.0</td>\n",
       "      <td>201.0</td>\n",
       "    </tr>\n",
       "    <tr>\n",
       "      <th>4</th>\n",
       "      <td>2</td>\n",
       "      <td>0</td>\n",
       "      <td>1923</td>\n",
       "      <td>182200</td>\n",
       "      <td>31.8</td>\n",
       "      <td>148.0</td>\n",
       "    </tr>\n",
       "  </tbody>\n",
       "</table>\n",
       "</div>"
      ],
      "text/plain": [
       "   Neighborhood  BldClassif  YearBuilt  GrossSqFt  GrossIncomeSqFt  \\\n",
       "0             0           0       1926     239121             34.0   \n",
       "1             0           1       1909      51387             36.5   \n",
       "2             0           1       1911     167448             35.8   \n",
       "3             1           2       1910       9530             41.0   \n",
       "4             2           0       1923     182200             31.8   \n",
       "\n",
       "   MarketValueperSqFt  \n",
       "0               158.0  \n",
       "1               170.0  \n",
       "2               167.0  \n",
       "3               201.0  \n",
       "4               148.0  "
      ]
     },
     "execution_count": 13,
     "metadata": {},
     "output_type": "execute_result"
    }
   ],
   "source": [
    "df.head()"
   ]
  },
  {
   "cell_type": "code",
   "execution_count": 6,
   "metadata": {
    "collapsed": false
   },
   "outputs": [],
   "source": [
    "df = pd.read_csv('manhattan-dof.csv',index_col=False,delimiter=',')\n",
    "df_x = df.ix[:,2:]\n",
    "df_y = df.ix[:,1]\n",
    "\n",
    "X = df_x.as_matrix()\n",
    "Y = df_y.as_matrix()\n",
    "\n",
    "# --------------------\n",
    "# Normalizing data\n",
    "# --------------------\n",
    "Xtmax = np.amax(X,axis=0)\n",
    "X = np.divide(X,Xtmax)"
   ]
  },
  {
   "cell_type": "code",
   "execution_count": 20,
   "metadata": {
    "collapsed": false
   },
   "outputs": [
    {
     "data": {
      "text/plain": [
       "<matplotlib.collections.PathCollection at 0x11203d710>"
      ]
     },
     "execution_count": 20,
     "metadata": {},
     "output_type": "execute_result"
    },
    {
     "data": {
      "image/png": "[encoded data removed]",
      "text/plain": [
       "<matplotlib.figure.Figure at 0x111aa2490>"
      ]
     },
     "metadata": {},
     "output_type": "display_data"
    }
   ],
   "source": [
    "# --------------------\n",
    "# Clustering\n",
    "# --------------------\n",
    "\n",
    "## Kmeans\n",
    "km = cluster.KMeans(n_clusters=3, random_state=0)\n",
    "km.fit(X)\n",
    "cl = km.labels_\n",
    "plt.scatter(X[:,1],X[:,2],c=cl)"
   ]
  },
  {
   "cell_type": "code",
   "execution_count": 21,
   "metadata": {
    "collapsed": false
   },
   "outputs": [
    {
     "data": {
      "text/plain": [
       "<matplotlib.collections.PathCollection at 0x112229b10>"
      ]
     },
     "execution_count": 21,
     "metadata": {},
     "output_type": "execute_result"
    },
    {
     "data": {
      "image/png": "[encoded data removed]",
      "text/plain": [
       "<matplotlib.figure.Figure at 0x11214d110>"
      ]
     },
     "metadata": {},
     "output_type": "display_data"
    }
   ],
   "source": [
    "# Hierarchical\n",
    "hc = cluster.AgglomerativeClustering(n_clusters=3, linkage='ward')\n",
    "hc.fit(X)\n",
    "cl = hc.labels_\n",
    "\n",
    "plt.scatter(X[:,1],X[:,2],c=cl)"
   ]
  },
  {
   "cell_type": "code",
   "execution_count": 36,
   "metadata": {
    "collapsed": false
   },
   "outputs": [
    {
     "name": "stdout",
     "output_type": "stream",
     "text": [
      "----------Naive Bayes----------\n",
      "209 misclassified data out of 794 ( 26.322418136 %)\n"
     ]
    }
   ],
   "source": [
    "# --------------------\n",
    "# K-fold CV\n",
    "# --------------------\n",
    "X_train, X_test, Y_train, Y_test = train_test_split(X, Y, train_size=0.7, random_state=3)\n",
    "ts, = Y_test.shape\n",
    "\n",
    "# --------------------\n",
    "# Naive Bayes\n",
    "# --------------------\n",
    "gnb = naive_bayes.GaussianNB()\n",
    "gnb.fit(X_train,Y_train)\n",
    "ypred_gnb = gnb.predict(X_test)\n",
    "e_gnb = np.sum((ypred_gnb[i] != Y_test[i]) for i in range(0,ts))\n",
    "print(\"----------Naive Bayes----------\")\n",
    "print e_gnb, \"misclassified data out of\",ts,\"(\",float(e_gnb)*100/ts,\"%)\""
   ]
  },
  {
   "cell_type": "code",
   "execution_count": 37,
   "metadata": {
    "collapsed": false
   },
   "outputs": [
    {
     "name": "stdout",
     "output_type": "stream",
     "text": [
      "----------SVM Linear----------\n",
      "246 misclassified data out of 794 ( 30.9823677582 %)\n"
     ]
    }
   ],
   "source": [
    "# --------------------\n",
    "# SVM\n",
    "# --------------------\n",
    "svm_linear = svm.SVC(kernel='linear')\n",
    "svm_linear.fit(X_train,Y_train)\n",
    "ypred_svm_linear = svm_linear.predict(X_test)\n",
    "e_svm_linear = np.sum((ypred_svm_linear[i] != Y_test[i]) for i in range(0,ts))\n",
    "print(\"----------SVM Linear----------\")\n",
    "print e_svm_linear, \"misclassified data out of\", ts, \"(\",float(e_svm_linear)*100/ts,\"%)\""
   ]
  },
  {
   "cell_type": "code",
   "execution_count": 48,
   "metadata": {
    "collapsed": false
   },
   "outputs": [
    {
     "name": "stdout",
     "output_type": "stream",
     "text": [
      "----------SVM RBF----------\n",
      "('number of support vectors', 1134)\n",
      "227 misclassified data out of 794 ( 28.5894206549 %)\n"
     ]
    }
   ],
   "source": [
    "class_weight={0:10} #give a larger importance to class 0\n",
    "svm_rbf = svm.SVC(kernel='rbf', gamma=500, class_weight={0:10})\n",
    "# svm_rbf = svm.SVC(kernel='rbf', gamma=500)\n",
    "svm_rbf.fit(X_train,Y_train)\n",
    "ypred_svm_rbf = svm_rbf.predict(X_test)\n",
    "e_svm_rbf = np.sum((ypred_svm_rbf[i] != Y_test[i]) for i in range(0,ts))\n",
    "print(\"----------SVM RBF----------\")\n",
    "print(\"number of support vectors\",len(svm_rbf.support_))\n",
    "print e_svm_rbf, \"misclassified data out of\", ts, \"(\",float(e_svm_rbf)*100/ts,\"%)\""
   ]
  },
  {
   "cell_type": "code",
   "execution_count": 59,
   "metadata": {
    "collapsed": false
   },
   "outputs": [
    {
     "data": {
      "image/png": "[encoded data removed]",
      "text/plain": [
       "<matplotlib.figure.Figure at 0x112ba6a90>"
      ]
     },
     "metadata": {},
     "output_type": "display_data"
    }
   ],
   "source": [
    "# --------------------\n",
    "# SVM_RBF (analyzing gamma)\n",
    "# --------------------\n",
    "l=[]\n",
    "# for g in range(1,500,2):\n",
    "#    svm_rbf = svm.SVC(kernel='rbf', gamma=float(g))\n",
    "#    svm_rbf.fit(X_train,Y_train)\n",
    "#    ypred_svm_rbf = svm_rbf.predict(X_test)\n",
    "#    e_svm_rbf = np.sum((ypred_svm_rbf[i] != Y_test[i]) for i in range(0,ts))\n",
    "#    l.append(e_svm_rbf/ts)\n",
    "\n",
    "# plt.plot(l)\n",
    "\n",
    "plt.subplot(1,3,1)\n",
    "plt.scatter(X_test[:,2],X_test[:,3],c=ypred_gnb)\n",
    "plt.subplot(1,3,2)\n",
    "plt.scatter(X_test[:,2],X_test[:,3],c=ypred_svm_linear)\n",
    "plt.subplot(1,3,3)\n",
    "plt.scatter(X_test[:,2],X_test[:,3],c=ypred_svm_rbf)\n",
    "# svm_rbf_sv = svm_rbf.support_\n",
    "# plt.scatter(X[svm_rbf_sv,2],X[svm_rbf_sv,3],color=\"red\")\n",
    "plt.show()"
   ]
  },
  {
   "cell_type": "code",
   "execution_count": 41,
   "metadata": {
    "collapsed": false
   },
   "outputs": [
    {
     "data": {
      "text/plain": [
       "{0, 1, 2, 3}"
      ]
     },
     "execution_count": 41,
     "metadata": {},
     "output_type": "execute_result"
    }
   ],
   "source": [
    "set(Y)"
   ]
  },
  {
   "cell_type": "code",
   "execution_count": 51,
   "metadata": {
    "collapsed": false
   },
   "outputs": [
    {
     "name": "stdout",
     "output_type": "stream",
     "text": [
      "----------SVM RBF----------\n",
      "('number of support vectors', 1134)\n",
      "239 misclassified data out of 794 ( 30.1007556675 %)\n"
     ]
    }
   ],
   "source": [
    "# Changing GAMMA\n",
    "class_weight={0:10} #give a larger importance to class 0\n",
    "svm_rbf = svm.SVC(kernel='rbf', gamma=300, class_weight={0:10})\n",
    "# svm_rbf = svm.SVC(kernel='rbf', gamma=500)\n",
    "svm_rbf.fit(X_train,Y_train)\n",
    "ypred_svm_rbf = svm_rbf.predict(X_test)\n",
    "e_svm_rbf = np.sum((ypred_svm_rbf[i] != Y_test[i]) for i in range(0,ts))\n",
    "print(\"----------SVM RBF----------\")\n",
    "print(\"number of support vectors\",len(svm_rbf.support_))\n",
    "print e_svm_rbf, \"misclassified data out of\", ts, \"(\",float(e_svm_rbf)*100/ts,\"%)\""
   ]
  },
  {
   "cell_type": "code",
   "execution_count": 52,
   "metadata": {
    "collapsed": false
   },
   "outputs": [
    {
     "name": "stdout",
     "output_type": "stream",
     "text": [
      "----------SVM RBF----------\n",
      "('number of support vectors', 1161)\n",
      "256 misclassified data out of 794 ( 32.241813602 %)\n"
     ]
    }
   ],
   "source": [
    "# Changing GAMMA\n",
    "class_weight={0:10} #give a larger importance to class 0\n",
    "svm_rbf = svm.SVC(kernel='rbf', gamma=100, class_weight={0:10})\n",
    "# svm_rbf = svm.SVC(kernel='rbf', gamma=500)\n",
    "svm_rbf.fit(X_train,Y_train)\n",
    "ypred_svm_rbf = svm_rbf.predict(X_test)\n",
    "e_svm_rbf = np.sum((ypred_svm_rbf[i] != Y_test[i]) for i in range(0,ts))\n",
    "print(\"----------SVM RBF----------\")\n",
    "print(\"number of support vectors\",len(svm_rbf.support_))\n",
    "print e_svm_rbf, \"misclassified data out of\", ts, \"(\",float(e_svm_rbf)*100/ts,\"%)\""
   ]
  },
  {
   "cell_type": "code",
   "execution_count": 53,
   "metadata": {
    "collapsed": false
   },
   "outputs": [
    {
     "name": "stdout",
     "output_type": "stream",
     "text": [
      "----------SVM RBF----------\n",
      "('number of support vectors', 1134)\n",
      "227 misclassified data out of 794 ( 28.5894206549 %)\n"
     ]
    }
   ],
   "source": [
    "# Changing GAMMA\n",
    "class_weight={0:10} #give a larger importance to class 0\n",
    "svm_rbf = svm.SVC(kernel='rbf', gamma=500, class_weight={0:10})\n",
    "# svm_rbf = svm.SVC(kernel='rbf', gamma=500)\n",
    "svm_rbf.fit(X_train,Y_train)\n",
    "ypred_svm_rbf = svm_rbf.predict(X_test)\n",
    "e_svm_rbf = np.sum((ypred_svm_rbf[i] != Y_test[i]) for i in range(0,ts))\n",
    "print(\"----------SVM RBF----------\")\n",
    "print(\"number of support vectors\",len(svm_rbf.support_))\n",
    "print e_svm_rbf, \"misclassified data out of\", ts, \"(\",float(e_svm_rbf)*100/ts,\"%)\""
   ]
  },
  {
   "cell_type": "code",
   "execution_count": 57,
   "metadata": {
    "collapsed": false
   },
   "outputs": [
    {
     "name": "stdout",
     "output_type": "stream",
     "text": [
      "----------SVM RBF----------\n",
      "('number of support vectors', 1109)\n",
      "208 misclassified data out of 794 ( 26.1964735516 %)\n"
     ]
    }
   ],
   "source": [
    "# Changing GAMMA\n",
    "class_weight={0:10} #give a larger importance to class 0\n",
    "svm_rbf = svm.SVC(kernel='rbf', gamma=1000, class_weight={0:10})\n",
    "# svm_rbf = svm.SVC(kernel='rbf', gamma=500)\n",
    "svm_rbf.fit(X_train,Y_train)\n",
    "ypred_svm_rbf = svm_rbf.predict(X_test)\n",
    "e_svm_rbf = np.sum((ypred_svm_rbf[i] != Y_test[i]) for i in range(0,ts))\n",
    "print(\"----------SVM RBF----------\")\n",
    "print(\"number of support vectors\",len(svm_rbf.support_))\n",
    "print e_svm_rbf, \"misclassified data out of\", ts, \"(\",float(e_svm_rbf)*100/ts,\"%)\""
   ]
  },
  {
   "cell_type": "code",
   "execution_count": 66,
   "metadata": {
    "collapsed": true
   },
   "outputs": [],
   "source": [
    "# --------------------\n",
    "# SVM_RBF (analyzing gamma)\n",
    "# --------------------\n",
    "l=[]\n",
    "for g in range(1,500,2):\n",
    "   svm_rbf = svm.SVC(kernel='rbf', gamma=float(g))\n",
    "   svm_rbf.fit(X_train,Y_train)\n",
    "   ypred_svm_rbf = svm_rbf.predict(X_test)\n",
    "   e_svm_rbf = np.sum((ypred_svm_rbf[i] != Y_test[i]) for i in range(0,ts))\n",
    "   l.append(float(e_svm_rbf)/ts)"
   ]
  },
  {
   "cell_type": "code",
   "execution_count": 71,
   "metadata": {
    "collapsed": false,
    "scrolled": true
   },
   "outputs": [
    {
     "data": {
      "text/plain": [
       "[<matplotlib.lines.Line2D at 0x112670dd0>]"
      ]
     },
     "execution_count": 71,
     "metadata": {},
     "output_type": "execute_result"
    },
    {
     "data": {
      "image/png": "[encoded data removed]",
      "text/plain": [
       "<matplotlib.figure.Figure at 0x1126a2910>"
      ]
     },
     "metadata": {},
     "output_type": "display_data"
    }
   ],
   "source": [
    "plt.plot(range(1,500,2),l)"
   ]
  },
  {
   "cell_type": "code",
   "execution_count": 73,
   "metadata": {
    "collapsed": false,
    "scrolled": true
   },
   "outputs": [
    {
     "data": {
      "image/png": "[encoded data removed]",
      "text/plain": [
       "<matplotlib.figure.Figure at 0x1129b9450>"
      ]
     },
     "metadata": {},
     "output_type": "display_data"
    }
   ],
   "source": [
    "svm_rbf_sv = svm_rbf.support_\n",
    "plt.scatter(X[:,2],X[:,3],color='blue')\n",
    "plt.scatter(X[svm_rbf_sv,2],X[svm_rbf_sv,3],color=\"red\")\n",
    "plt.show()"
   ]
  },
  {
   "cell_type": "code",
   "execution_count": 76,
   "metadata": {
    "collapsed": false
   },
   "outputs": [
    {
     "data": {
      "text/plain": [
       "(920, 4)"
      ]
     },
     "execution_count": 76,
     "metadata": {},
     "output_type": "execute_result"
    }
   ],
   "source": [
    "X[svm_rbf_sv].shape"
   ]
  },
  {
   "cell_type": "code",
   "execution_count": 79,
   "metadata": {
    "collapsed": false
   },
   "outputs": [
    {
     "data": {
      "text/plain": [
       "(2645, 4)"
      ]
     },
     "execution_count": 79,
     "metadata": {},
     "output_type": "execute_result"
    }
   ],
   "source": [
    "X.shape"
   ]
  },
  {
   "cell_type": "code",
   "execution_count": 82,
   "metadata": {
    "collapsed": false
   },
   "outputs": [
    {
     "data": {
      "text/plain": [
       "SVC(C=1.0, cache_size=200, class_weight=None, coef0=0.0, degree=3,\n",
       "  gamma=499.0, kernel='rbf', max_iter=-1, probability=False,\n",
       "  random_state=None, shrinking=True, tol=0.001, verbose=False)"
      ]
     },
     "execution_count": 82,
     "metadata": {},
     "output_type": "execute_result"
    }
   ],
   "source": [
    "svm_rbf.support_"
   ]
  },
  {
   "cell_type": "code",
   "execution_count": null,
   "metadata": {
    "collapsed": true
   },
   "outputs": [],
   "source": []
  }
 ],
 "metadata": {
  "kernelspec": {
   "display_name": "Python 2",
   "language": "python",
   "name": "python2"
  },
  "language_info": {
   "codemirror_mode": {
    "name": "ipython",
    "version": 2
   },
   "file_extension": ".py",
   "mimetype": "text/x-python",
   "name": "python",
   "nbconvert_exporter": "python",
   "pygments_lexer": "ipython2",
   "version": "2.7.13"
  }
 },
 "nbformat": 4,
 "nbformat_minor": 0
}
