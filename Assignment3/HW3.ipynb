{
 "cells": [
  {
   "cell_type": "code",
   "execution_count": 1,
   "metadata": {},
   "outputs": [
    {
     "name": "stdout",
     "output_type": "stream",
     "text": [
      "Populating the interactive namespace from numpy and matplotlib\n"
     ]
    },
    {
     "name": "stderr",
     "output_type": "stream",
     "text": [
      "/Users/michelleho/anaconda/lib/python2.7/site-packages/matplotlib/__init__.py:913: UserWarning: axes.color_cycle is deprecated and replaced with axes.prop_cycle; please use the latter.\n",
      "  warnings.warn(self.msg_depr % (key, alt_key))\n"
     ]
    }
   ],
   "source": [
    "import os, sys\n",
    "import pandas as pd\n",
    "import zipfile as zf\n",
    "import requests\n",
    "\n",
    "from sklearn import svm\n",
    "from sklearn.model_selection import train_test_split\n",
    "from sklearn import cluster\n",
    "from sklearn.metrics import confusion_matrix\n",
    "from sklearn.tree import DecisionTreeClassifier\n",
    "from sklearn.ensemble import AdaBoostClassifier\n",
    "from sklearn.ensemble import GradientBoostingClassifier\n",
    "from sklearn.ensemble import RandomForestClassifier\n",
    "from sklearn.ensemble import BaggingClassifier\n",
    "import urllib\n",
    "import itertools\n",
    "import pylab as pl\n",
    "import seaborn as sns\n",
    "\n",
    "from __future__ import division\n",
    "\n",
    "% pylab inline"
   ]
  },
  {
   "cell_type": "markdown",
   "metadata": {},
   "source": [
    "# Data download and move to data directory"
   ]
  },
  {
   "cell_type": "code",
   "execution_count": 6,
   "metadata": {},
   "outputs": [],
   "source": [
    "#Handling for both Mac and Windows systems\n",
    "try:\n",
    "    df_2010 = pd.read_csv('Data\\\\CollegeScorecard_Raw_Data\\\\MERGED2010_11_PP.csv')\n",
    "except(IOError):\n",
    "    df_2010 = pd.read_csv('Data/CollegeScorecard_Raw_Data/MERGED2010_11_PP.csv')\n",
    "#If data not already downloaded, trigger download:\n",
    "except: \n",
    "    url = 'https://ed-public-download.apps.cloud.gov/downloads/CollegeScorecard_Raw_Data.zip'\n",
    "    file_name = url.split('/')[-1]\n",
    "    r = requests.get(url)\n",
    "    with open(file_name, \"wb\") as code:\n",
    "        code.write(r.content)\n",
    "    zipref = zf.ZipFile(file_name, 'r')\n",
    "    zipref.extractall('Data')\n",
    "    zipref.close()\n",
    "    try:\n",
    "        df_2010 = pd.read_csv('Data\\\\CollegeScorecard_Raw_Data\\\\MERGED2010_11_PP.csv')\n",
    "    except(IOError):\n",
    "        df_2010 = pd.read_csv('Data/CollegeScorecard_Raw_Data/MERGED2010_11_PP.csv')"
   ]
  },
  {
   "cell_type": "code",
   "execution_count": 7,
   "metadata": {},
   "outputs": [
    {
     "data": {
      "text/html": [
       "<div>\n",
       "<table border=\"1\" class=\"dataframe\">\n",
       "  <thead>\n",
       "    <tr style=\"text-align: right;\">\n",
       "      <th></th>\n",
       "      <th>UNITID</th>\n",
       "      <th>OPEID</th>\n",
       "      <th>OPEID6</th>\n",
       "      <th>INSTNM</th>\n",
       "      <th>CITY</th>\n",
       "      <th>STABBR</th>\n",
       "      <th>ZIP</th>\n",
       "      <th>ACCREDAGENCY</th>\n",
       "      <th>INSTURL</th>\n",
       "      <th>NPCURL</th>\n",
       "      <th>...</th>\n",
       "      <th>D100_L4</th>\n",
       "      <th>TRANS_4</th>\n",
       "      <th>DTRANS_4</th>\n",
       "      <th>TRANS_L4</th>\n",
       "      <th>DTRANS_L4</th>\n",
       "      <th>ICLEVEL</th>\n",
       "      <th>UGDS_MEN</th>\n",
       "      <th>UGDS_WOMEN</th>\n",
       "      <th>CDR3_DENOM</th>\n",
       "      <th>CDR2_DENOM</th>\n",
       "    </tr>\n",
       "  </thead>\n",
       "  <tbody>\n",
       "    <tr>\n",
       "      <th>0</th>\n",
       "      <td>100654</td>\n",
       "      <td>100200</td>\n",
       "      <td>1002</td>\n",
       "      <td>Alabama A &amp; M University</td>\n",
       "      <td>Normal</td>\n",
       "      <td>AL</td>\n",
       "      <td>35762</td>\n",
       "      <td>NaN</td>\n",
       "      <td>NaN</td>\n",
       "      <td>NaN</td>\n",
       "      <td>...</td>\n",
       "      <td>NaN</td>\n",
       "      <td>0.000000</td>\n",
       "      <td>1198.0</td>\n",
       "      <td>NaN</td>\n",
       "      <td>NaN</td>\n",
       "      <td>1</td>\n",
       "      <td>0.4771</td>\n",
       "      <td>0.5229</td>\n",
       "      <td>NaN</td>\n",
       "      <td>1515.0</td>\n",
       "    </tr>\n",
       "    <tr>\n",
       "      <th>1</th>\n",
       "      <td>100663</td>\n",
       "      <td>105200</td>\n",
       "      <td>1052</td>\n",
       "      <td>University of Alabama at Birmingham</td>\n",
       "      <td>Birmingham</td>\n",
       "      <td>AL</td>\n",
       "      <td>35294-0110</td>\n",
       "      <td>NaN</td>\n",
       "      <td>NaN</td>\n",
       "      <td>NaN</td>\n",
       "      <td>...</td>\n",
       "      <td>NaN</td>\n",
       "      <td>0.291016</td>\n",
       "      <td>1536.0</td>\n",
       "      <td>NaN</td>\n",
       "      <td>NaN</td>\n",
       "      <td>1</td>\n",
       "      <td>0.4170</td>\n",
       "      <td>0.5830</td>\n",
       "      <td>NaN</td>\n",
       "      <td>2842.0</td>\n",
       "    </tr>\n",
       "    <tr>\n",
       "      <th>2</th>\n",
       "      <td>100690</td>\n",
       "      <td>2503400</td>\n",
       "      <td>25034</td>\n",
       "      <td>Amridge University</td>\n",
       "      <td>Montgomery</td>\n",
       "      <td>AL</td>\n",
       "      <td>36117-3553</td>\n",
       "      <td>NaN</td>\n",
       "      <td>NaN</td>\n",
       "      <td>NaN</td>\n",
       "      <td>...</td>\n",
       "      <td>NaN</td>\n",
       "      <td>0.000000</td>\n",
       "      <td>13.0</td>\n",
       "      <td>NaN</td>\n",
       "      <td>NaN</td>\n",
       "      <td>1</td>\n",
       "      <td>0.4649</td>\n",
       "      <td>0.5351</td>\n",
       "      <td>NaN</td>\n",
       "      <td>316.0</td>\n",
       "    </tr>\n",
       "    <tr>\n",
       "      <th>3</th>\n",
       "      <td>100706</td>\n",
       "      <td>105500</td>\n",
       "      <td>1055</td>\n",
       "      <td>University of Alabama in Huntsville</td>\n",
       "      <td>Huntsville</td>\n",
       "      <td>AL</td>\n",
       "      <td>35899</td>\n",
       "      <td>NaN</td>\n",
       "      <td>NaN</td>\n",
       "      <td>NaN</td>\n",
       "      <td>...</td>\n",
       "      <td>NaN</td>\n",
       "      <td>0.336907</td>\n",
       "      <td>653.0</td>\n",
       "      <td>NaN</td>\n",
       "      <td>NaN</td>\n",
       "      <td>1</td>\n",
       "      <td>0.5297</td>\n",
       "      <td>0.4703</td>\n",
       "      <td>NaN</td>\n",
       "      <td>1085.0</td>\n",
       "    </tr>\n",
       "    <tr>\n",
       "      <th>4</th>\n",
       "      <td>100724</td>\n",
       "      <td>100500</td>\n",
       "      <td>1005</td>\n",
       "      <td>Alabama State University</td>\n",
       "      <td>Montgomery</td>\n",
       "      <td>AL</td>\n",
       "      <td>36104-0271</td>\n",
       "      <td>NaN</td>\n",
       "      <td>NaN</td>\n",
       "      <td>NaN</td>\n",
       "      <td>...</td>\n",
       "      <td>NaN</td>\n",
       "      <td>0.000000</td>\n",
       "      <td>1138.0</td>\n",
       "      <td>NaN</td>\n",
       "      <td>NaN</td>\n",
       "      <td>1</td>\n",
       "      <td>0.4097</td>\n",
       "      <td>0.5903</td>\n",
       "      <td>NaN</td>\n",
       "      <td>2054.0</td>\n",
       "    </tr>\n",
       "  </tbody>\n",
       "</table>\n",
       "<p>5 rows × 1743 columns</p>\n",
       "</div>"
      ],
      "text/plain": [
       "   UNITID    OPEID  OPEID6                               INSTNM        CITY  \\\n",
       "0  100654   100200    1002             Alabama A & M University      Normal   \n",
       "1  100663   105200    1052  University of Alabama at Birmingham  Birmingham   \n",
       "2  100690  2503400   25034                   Amridge University  Montgomery   \n",
       "3  100706   105500    1055  University of Alabama in Huntsville  Huntsville   \n",
       "4  100724   100500    1005             Alabama State University  Montgomery   \n",
       "\n",
       "  STABBR         ZIP  ACCREDAGENCY  INSTURL  NPCURL     ...      D100_L4  \\\n",
       "0     AL       35762           NaN      NaN     NaN     ...          NaN   \n",
       "1     AL  35294-0110           NaN      NaN     NaN     ...          NaN   \n",
       "2     AL  36117-3553           NaN      NaN     NaN     ...          NaN   \n",
       "3     AL       35899           NaN      NaN     NaN     ...          NaN   \n",
       "4     AL  36104-0271           NaN      NaN     NaN     ...          NaN   \n",
       "\n",
       "    TRANS_4  DTRANS_4  TRANS_L4  DTRANS_L4  ICLEVEL  UGDS_MEN  UGDS_WOMEN  \\\n",
       "0  0.000000    1198.0       NaN        NaN        1    0.4771      0.5229   \n",
       "1  0.291016    1536.0       NaN        NaN        1    0.4170      0.5830   \n",
       "2  0.000000      13.0       NaN        NaN        1    0.4649      0.5351   \n",
       "3  0.336907     653.0       NaN        NaN        1    0.5297      0.4703   \n",
       "4  0.000000    1138.0       NaN        NaN        1    0.4097      0.5903   \n",
       "\n",
       "   CDR3_DENOM  CDR2_DENOM  \n",
       "0         NaN      1515.0  \n",
       "1         NaN      2842.0  \n",
       "2         NaN       316.0  \n",
       "3         NaN      1085.0  \n",
       "4         NaN      2054.0  \n",
       "\n",
       "[5 rows x 1743 columns]"
      ]
     },
     "execution_count": 7,
     "metadata": {},
     "output_type": "execute_result"
    }
   ],
   "source": [
    "df_2010.head()"
   ]
  },
  {
   "cell_type": "markdown",
   "metadata": {},
   "source": [
    "# What to classify: \n",
    "\n",
    "Institution Type by debt and wages?\n",
    "\n",
    "\n",
    "## Control \n",
    "\n",
    "1: Public\n",
    "\n",
    "2: Private Non-Profit\n",
    "\n",
    "3: Private For-Profit\n",
    "\n",
    "\n",
    "\n",
    "## REGION \n",
    "0\tU.S. Service Schools\n",
    "\n",
    "1\tNew England (CT, ME, MA, NH, RI, VT)\n",
    "\n",
    "2\tMid East (DE, DC, MD, NJ, NY, PA)\n",
    "\n",
    "3\tGreat Lakes (IL, IN, MI, OH, WI)\n",
    "\n",
    "4\tPlains (IA, KS, MN, MO, NE, ND, SD)\n",
    "\n",
    "5\tSoutheast (AL, AR, FL, GA, KY, LA, MS, NC, SC, TN, VA, WV)\n",
    "\n",
    "6\tSouthwest (AZ, NM, OK, TX)\n",
    "\n",
    "7\tRocky Mountains (CO, ID, MT, UT, WY)\n",
    "\n",
    "8\tFar West (AK, CA, HI, NV, OR, WA)\n",
    "\n",
    "9\tOutlying Areas (AS, FM, GU, MH, MP, PR, PW, VI)\n",
    "\n",
    "\n",
    "## Limit to 4 year universities: ICLEVEL = 1\n",
    "\n",
    "## Debt variables: \n",
    "\n",
    "Median debt for grads: GRAD_DEBT_MDN\n",
    "\n",
    "Median debt for those who withdraw: WDRAW_DEBT_MDN\n",
    "\n",
    "Median debt by monthly payment (10 year plan): GRAD_DEBT_MDN10YR\n",
    "\n",
    "Median debt by fam income\n",
    "\n",
    "Low (0-30000): LO_INC_DEBT_MDN\n",
    "\n",
    "Med (30001-75,000): MD_INC_DEBT_MDN\n",
    "\n",
    "High (>75,000): HI_INC_DEBT_MDN\n",
    "\n",
    "## Mean & mean earnings of working graduates 6 years after entry\n",
    "\n",
    "MN_EARN_WNE_P6\n",
    "\n",
    "MD_EARN_WNE_P6\n",
    "\n",
    "## Three year repayment rate: \n",
    "\n",
    "COMPL_RPY_3YR_RT_SUPP (students who complete)\n",
    "\n",
    "NONCOM_RPY_3YR_RT_SUPP (students who didn't)\n",
    "\n",
    "## Cohort Default Rate (2 & 3 years): \n",
    "CDR2\n",
    "\n",
    "CDR3\n",
    "\n",
    "## Share of students w/ any loan\n",
    "LOAN_EVER"
   ]
  },
  {
   "cell_type": "code",
   "execution_count": 8,
   "metadata": {},
   "outputs": [],
   "source": [
    "df_4yr_2010 = df_2010[df_2010.ICLEVEL == 1]"
   ]
  },
  {
   "cell_type": "code",
   "execution_count": 9,
   "metadata": {},
   "outputs": [],
   "source": [
    "variables = ['CONTROL',\n",
    "             'REGION',\n",
    "             'GRAD_DEBT_MDN',\n",
    "             'WDRAW_DEBT_MDN',\n",
    "             'GRAD_DEBT_MDN10YR',\n",
    "             'MN_EARN_WNE_P7',\n",
    "             'COMPL_RPY_3YR_RT_SUPP', \n",
    "             'NONCOM_RPY_3YR_RT_SUPP']"
   ]
  },
  {
   "cell_type": "code",
   "execution_count": 10,
   "metadata": {},
   "outputs": [],
   "source": [
    "reduced = df_4yr_2010[variables]"
   ]
  },
  {
   "cell_type": "code",
   "execution_count": 11,
   "metadata": {},
   "outputs": [
    {
     "name": "stderr",
     "output_type": "stream",
     "text": [
      "/Users/michelleho/anaconda/lib/python2.7/site-packages/ipykernel_launcher.py:1: FutureWarning: convert_objects is deprecated.  Use the data-type specific converters pd.to_datetime, pd.to_timedelta and pd.to_numeric.\n",
      "  \"\"\"Entry point for launching an IPython kernel.\n"
     ]
    }
   ],
   "source": [
    "reduced = reduced.convert_objects(convert_numeric = 'coerce')\n",
    "reduced.dropna(inplace = True)"
   ]
  },
  {
   "cell_type": "code",
   "execution_count": 12,
   "metadata": {},
   "outputs": [
    {
     "data": {
      "text/plain": [
       "(2249, 8)"
      ]
     },
     "execution_count": 12,
     "metadata": {},
     "output_type": "execute_result"
    }
   ],
   "source": [
    "reduced.shape"
   ]
  },
  {
   "cell_type": "code",
   "execution_count": 21,
   "metadata": {},
   "outputs": [
    {
     "data": {
      "text/plain": [
       "(7414, 1743)"
      ]
     },
     "execution_count": 21,
     "metadata": {},
     "output_type": "execute_result"
    }
   ],
   "source": [
    "df_2010.shape"
   ]
  },
  {
   "cell_type": "markdown",
   "metadata": {},
   "source": [
    "# Predict whether Public, Private Non-Profit or Private For-Profit based on Median Debt, Median Earnings (7 Year Mark), Repayment Rate at 3 Years of Students who completed degrees, Repayment Rate at 3 Years of Students who did not complete degrees"
   ]
  },
  {
   "cell_type": "code",
   "execution_count": 13,
   "metadata": {},
   "outputs": [],
   "source": [
    "def plot_confusion_matrix(cm, classes,\n",
    "                          title='Confusion matrix',\n",
    "                          cmap=plt.cm.Blues):\n",
    "    \"\"\"\n",
    "    This function prints and plots the confusion matrix.\n",
    "    \"\"\"\n",
    "    \n",
    "    # creates shading based on percentage true\n",
    "    percentage_map = np.zeros((len(classes), len(classes)))\n",
    "    percentages = cm.diagonal() / np.apply_along_axis(sum, axis = 1, arr = conf_m)\n",
    "    np.fill_diagonal(percentage_map, percentages)\n",
    "    plt.imshow(cm, interpolation='nearest', cmap=cmap)\n",
    "\n",
    "    plt.title(title, fontsize = 15)\n",
    "    tick_marks = np.arange(len(classes))\n",
    "    plt.xticks(tick_marks, classes, rotation=30, fontsize = 12)\n",
    "    plt.yticks(tick_marks, classes, fontsize = 12)\n",
    "    np.set_printoptions(suppress=True)\n",
    "    sns.heatmap(percentage_map, annot = cm, fmt = 'd', cbar = True, xticklabels=labels, yticklabels=labels)\n",
    "    \n",
    "    plt.tight_layout()\n",
    "    plt.ylabel('True label', fontsize = 15)\n",
    "    plt.xlabel('Predicted label', fontsize = 15)"
   ]
  },
  {
   "cell_type": "code",
   "execution_count": 14,
   "metadata": {},
   "outputs": [
    {
     "data": {
      "text/html": [
       "<div>\n",
       "<table border=\"1\" class=\"dataframe\">\n",
       "  <thead>\n",
       "    <tr style=\"text-align: right;\">\n",
       "      <th></th>\n",
       "      <th>REGION</th>\n",
       "      <th>GRAD_DEBT_MDN</th>\n",
       "      <th>WDRAW_DEBT_MDN</th>\n",
       "      <th>GRAD_DEBT_MDN10YR</th>\n",
       "      <th>MN_EARN_WNE_P7</th>\n",
       "      <th>COMPL_RPY_3YR_RT_SUPP</th>\n",
       "      <th>NONCOM_RPY_3YR_RT_SUPP</th>\n",
       "    </tr>\n",
       "    <tr>\n",
       "      <th>CONTROL</th>\n",
       "      <th></th>\n",
       "      <th></th>\n",
       "      <th></th>\n",
       "      <th></th>\n",
       "      <th></th>\n",
       "      <th></th>\n",
       "      <th></th>\n",
       "    </tr>\n",
       "  </thead>\n",
       "  <tbody>\n",
       "    <tr>\n",
       "      <th>1</th>\n",
       "      <td>4.356792</td>\n",
       "      <td>17273.094108</td>\n",
       "      <td>6593.815057</td>\n",
       "      <td>177.272217</td>\n",
       "      <td>38966.284779</td>\n",
       "      <td>0.812856</td>\n",
       "      <td>0.568931</td>\n",
       "    </tr>\n",
       "    <tr>\n",
       "      <th>2</th>\n",
       "      <td>4.035088</td>\n",
       "      <td>20468.720330</td>\n",
       "      <td>7928.806502</td>\n",
       "      <td>210.068643</td>\n",
       "      <td>40101.031992</td>\n",
       "      <td>0.810981</td>\n",
       "      <td>0.602654</td>\n",
       "    </tr>\n",
       "    <tr>\n",
       "      <th>3</th>\n",
       "      <td>4.884903</td>\n",
       "      <td>20543.167414</td>\n",
       "      <td>6198.109118</td>\n",
       "      <td>210.832687</td>\n",
       "      <td>37527.204783</td>\n",
       "      <td>0.627704</td>\n",
       "      <td>0.343428</td>\n",
       "    </tr>\n",
       "  </tbody>\n",
       "</table>\n",
       "</div>"
      ],
      "text/plain": [
       "           REGION  GRAD_DEBT_MDN  WDRAW_DEBT_MDN  GRAD_DEBT_MDN10YR  \\\n",
       "CONTROL                                                               \n",
       "1        4.356792   17273.094108     6593.815057         177.272217   \n",
       "2        4.035088   20468.720330     7928.806502         210.068643   \n",
       "3        4.884903   20543.167414     6198.109118         210.832687   \n",
       "\n",
       "         MN_EARN_WNE_P7  COMPL_RPY_3YR_RT_SUPP  NONCOM_RPY_3YR_RT_SUPP  \n",
       "CONTROL                                                                 \n",
       "1          38966.284779               0.812856                0.568931  \n",
       "2          40101.031992               0.810981                0.602654  \n",
       "3          37527.204783               0.627704                0.343428  "
      ]
     },
     "execution_count": 14,
     "metadata": {},
     "output_type": "execute_result"
    }
   ],
   "source": [
    "reduced.groupby('CONTROL').mean()"
   ]
  },
  {
   "cell_type": "code",
   "execution_count": 17,
   "metadata": {},
   "outputs": [
    {
     "data": {
      "text/plain": [
       "CONTROL\n",
       "1    0.271676\n",
       "2    0.430858\n",
       "3    0.297466\n",
       "Name: REGION, dtype: float64"
      ]
     },
     "execution_count": 17,
     "metadata": {},
     "output_type": "execute_result"
    }
   ],
   "source": [
    "# percentages of each type. 1 = Public, 2 = Private Non-Profit, 3 = Private For-Profit\n",
    "reduced.groupby('CONTROL').REGION.count() / len(reduced)"
   ]
  },
  {
   "cell_type": "code",
   "execution_count": 18,
   "metadata": {},
   "outputs": [],
   "source": [
    "X = reduced[reduced.columns[2:]]\n",
    "Y = reduced[reduced.columns[0]]"
   ]
  },
  {
   "cell_type": "code",
   "execution_count": 19,
   "metadata": {
    "collapsed": true
   },
   "outputs": [],
   "source": [
    "labels = ['Public', 'Private, Non-Profit', 'Private, For-Profit'] "
   ]
  },
  {
   "cell_type": "code",
   "execution_count": 20,
   "metadata": {},
   "outputs": [
    {
     "name": "stdout",
     "output_type": "stream",
     "text": [
      "----------SVM Linear----------\n",
      "Insample misclassified = 48.5523385301%\n",
      "For training size of 449\n",
      "899 misclassified data out of 1800 ( 49.94 %)\n"
     ]
    },
    {
     "ename": "ValueError",
     "evalue": "The truth value of an array with more than one element is ambiguous. Use a.any() or a.all()",
     "output_type": "error",
     "traceback": [
      "\u001b[0;31m---------------------------------------------------------------------------\u001b[0m",
      "\u001b[0;31mValueError\u001b[0m                                Traceback (most recent call last)",
      "\u001b[0;32m<ipython-input-20-4e0ec44b9f10>\u001b[0m in \u001b[0;36m<module>\u001b[0;34m()\u001b[0m\n\u001b[1;32m     20\u001b[0m     \u001b[0mfig\u001b[0m \u001b[0;34m=\u001b[0m \u001b[0mpl\u001b[0m\u001b[0;34m.\u001b[0m\u001b[0mfigure\u001b[0m\u001b[0;34m(\u001b[0m\u001b[0mfigsize\u001b[0m \u001b[0;34m=\u001b[0m \u001b[0;34m(\u001b[0m\u001b[0;36m10\u001b[0m\u001b[0;34m,\u001b[0m \u001b[0;36m10\u001b[0m\u001b[0;34m)\u001b[0m\u001b[0;34m)\u001b[0m\u001b[0;34m\u001b[0m\u001b[0m\n\u001b[1;32m     21\u001b[0m     plot_confusion_matrix(conf_m, classes = labels, \n\u001b[0;32m---> 22\u001b[0;31m                           title = 'Confusion Matrix - SVM Linear with Train Size {0}'.format(len(X_train)))\n\u001b[0m\u001b[1;32m     23\u001b[0m     \u001b[0mpl\u001b[0m\u001b[0;34m.\u001b[0m\u001b[0msavefig\u001b[0m\u001b[0;34m(\u001b[0m\u001b[0;34m'confusion_matrix_SVM_Linear_{0}.jpg'\u001b[0m\u001b[0;34m.\u001b[0m\u001b[0mformat\u001b[0m\u001b[0;34m(\u001b[0m\u001b[0mstr\u001b[0m\u001b[0;34m(\u001b[0m\u001b[0mlen\u001b[0m\u001b[0;34m(\u001b[0m\u001b[0mX_train\u001b[0m\u001b[0;34m)\u001b[0m\u001b[0;34m)\u001b[0m\u001b[0;34m)\u001b[0m\u001b[0;34m)\u001b[0m\u001b[0;34m\u001b[0m\u001b[0m\n",
      "\u001b[0;32m<ipython-input-13-81d19fb9e108>\u001b[0m in \u001b[0;36mplot_confusion_matrix\u001b[0;34m(cm, classes, title, cmap)\u001b[0m\n\u001b[1;32m     17\u001b[0m     \u001b[0mplt\u001b[0m\u001b[0;34m.\u001b[0m\u001b[0myticks\u001b[0m\u001b[0;34m(\u001b[0m\u001b[0mtick_marks\u001b[0m\u001b[0;34m,\u001b[0m \u001b[0mclasses\u001b[0m\u001b[0;34m,\u001b[0m \u001b[0mfontsize\u001b[0m \u001b[0;34m=\u001b[0m \u001b[0;36m12\u001b[0m\u001b[0;34m)\u001b[0m\u001b[0;34m\u001b[0m\u001b[0m\n\u001b[1;32m     18\u001b[0m     \u001b[0mnp\u001b[0m\u001b[0;34m.\u001b[0m\u001b[0mset_printoptions\u001b[0m\u001b[0;34m(\u001b[0m\u001b[0msuppress\u001b[0m\u001b[0;34m=\u001b[0m\u001b[0mTrue\u001b[0m\u001b[0;34m)\u001b[0m\u001b[0;34m\u001b[0m\u001b[0m\n\u001b[0;32m---> 19\u001b[0;31m     \u001b[0msns\u001b[0m\u001b[0;34m.\u001b[0m\u001b[0mheatmap\u001b[0m\u001b[0;34m(\u001b[0m\u001b[0mpercentage_map\u001b[0m\u001b[0;34m,\u001b[0m \u001b[0mannot\u001b[0m \u001b[0;34m=\u001b[0m \u001b[0mcm\u001b[0m\u001b[0;34m,\u001b[0m \u001b[0mfmt\u001b[0m \u001b[0;34m=\u001b[0m \u001b[0;34m'd'\u001b[0m\u001b[0;34m,\u001b[0m \u001b[0mcbar\u001b[0m \u001b[0;34m=\u001b[0m \u001b[0mTrue\u001b[0m\u001b[0;34m,\u001b[0m \u001b[0mxticklabels\u001b[0m\u001b[0;34m=\u001b[0m\u001b[0mlabels\u001b[0m\u001b[0;34m,\u001b[0m \u001b[0myticklabels\u001b[0m\u001b[0;34m=\u001b[0m\u001b[0mlabels\u001b[0m\u001b[0;34m)\u001b[0m\u001b[0;34m\u001b[0m\u001b[0m\n\u001b[0m\u001b[1;32m     20\u001b[0m \u001b[0;34m\u001b[0m\u001b[0m\n\u001b[1;32m     21\u001b[0m     \u001b[0mplt\u001b[0m\u001b[0;34m.\u001b[0m\u001b[0mtight_layout\u001b[0m\u001b[0;34m(\u001b[0m\u001b[0;34m)\u001b[0m\u001b[0;34m\u001b[0m\u001b[0m\n",
      "\u001b[0;32m/Users/michelleho/anaconda/lib/python2.7/site-packages/seaborn/matrix.pyc\u001b[0m in \u001b[0;36mheatmap\u001b[0;34m(data, vmin, vmax, cmap, center, robust, annot, fmt, annot_kws, linewidths, linecolor, cbar, cbar_kws, cbar_ax, square, ax, xticklabels, yticklabels, mask, **kwargs)\u001b[0m\n\u001b[1;32m    444\u001b[0m     \u001b[0;32mif\u001b[0m \u001b[0msquare\u001b[0m\u001b[0;34m:\u001b[0m\u001b[0;34m\u001b[0m\u001b[0m\n\u001b[1;32m    445\u001b[0m         \u001b[0max\u001b[0m\u001b[0;34m.\u001b[0m\u001b[0mset_aspect\u001b[0m\u001b[0;34m(\u001b[0m\u001b[0;34m\"equal\"\u001b[0m\u001b[0;34m)\u001b[0m\u001b[0;34m\u001b[0m\u001b[0m\n\u001b[0;32m--> 446\u001b[0;31m     \u001b[0mplotter\u001b[0m\u001b[0;34m.\u001b[0m\u001b[0mplot\u001b[0m\u001b[0;34m(\u001b[0m\u001b[0max\u001b[0m\u001b[0;34m,\u001b[0m \u001b[0mcbar_ax\u001b[0m\u001b[0;34m,\u001b[0m \u001b[0mkwargs\u001b[0m\u001b[0;34m)\u001b[0m\u001b[0;34m\u001b[0m\u001b[0m\n\u001b[0m\u001b[1;32m    447\u001b[0m     \u001b[0;32mreturn\u001b[0m \u001b[0max\u001b[0m\u001b[0;34m\u001b[0m\u001b[0m\n\u001b[1;32m    448\u001b[0m \u001b[0;34m\u001b[0m\u001b[0m\n",
      "\u001b[0;32m/Users/michelleho/anaconda/lib/python2.7/site-packages/seaborn/matrix.pyc\u001b[0m in \u001b[0;36mplot\u001b[0;34m(self, ax, cax, kws)\u001b[0m\n\u001b[1;32m    233\u001b[0m \u001b[0;34m\u001b[0m\u001b[0m\n\u001b[1;32m    234\u001b[0m         \u001b[0;31m# Annotate the cells with the formatted values\u001b[0m\u001b[0;34m\u001b[0m\u001b[0;34m\u001b[0m\u001b[0m\n\u001b[0;32m--> 235\u001b[0;31m         \u001b[0;32mif\u001b[0m \u001b[0mself\u001b[0m\u001b[0;34m.\u001b[0m\u001b[0mannot\u001b[0m\u001b[0;34m:\u001b[0m\u001b[0;34m\u001b[0m\u001b[0m\n\u001b[0m\u001b[1;32m    236\u001b[0m             \u001b[0mself\u001b[0m\u001b[0;34m.\u001b[0m\u001b[0m_annotate_heatmap\u001b[0m\u001b[0;34m(\u001b[0m\u001b[0max\u001b[0m\u001b[0;34m,\u001b[0m \u001b[0mmesh\u001b[0m\u001b[0;34m)\u001b[0m\u001b[0;34m\u001b[0m\u001b[0m\n\u001b[1;32m    237\u001b[0m \u001b[0;34m\u001b[0m\u001b[0m\n",
      "\u001b[0;31mValueError\u001b[0m: The truth value of an array with more than one element is ambiguous. Use a.any() or a.all()"
     ]
    },
    {
     "data": {
      "image/png": "[encoded data removed]",
      "text/plain": [
       "<matplotlib.figure.Figure at 0x11909ca90>"
      ]
     },
     "metadata": {},
     "output_type": "display_data"
    }
   ],
   "source": [
    "print \"----------SVM Linear----------\"\n",
    "\n",
    "for i, n in enumerate([0.8, 0.6, 0.4, 0.2]):\n",
    "    \n",
    "    X_train, X_test, Y_train, Y_test = train_test_split(X, Y, train_size = 1 - n, random_state=3)\n",
    "    ts, = Y_test.shape\n",
    "    \n",
    "    svm_linear = svm.SVC(kernel='linear')\n",
    "    svm_linear.fit(X_train, Y_train)\n",
    "    ypred_svm_linear = svm_linear.predict(X_test)\n",
    "    e_svm_linear = sum(ypred_svm_linear != Y_test)\n",
    "    insample_incorrect = sum(Y_train != svm_linear.predict(X_train)) / Y_train.shape[0] * 100\n",
    "    print 'Insample misclassified = {0}%'.format(insample_incorrect)\n",
    "\n",
    "    \n",
    "    print 'For training size of {0}'.format(len(X_train))\n",
    "    print e_svm_linear, \"misclassified data out of\", ts, \"(\", round(e_svm_linear/ts, 4) * 100,\"%)\"\n",
    "    \n",
    "    conf_m = confusion_matrix(Y_test, ypred_svm_linear)\n",
    "    fig = pl.figure(figsize = (10, 10))\n",
    "    plot_confusion_matrix(conf_m, classes = labels, \n",
    "                          title = 'Confusion Matrix - SVM Linear with Train Size {0}'.format(len(X_train)))\n",
    "    pl.savefig('confusion_matrix_SVM_Linear_{0}.jpg'.format(str(len(X_train))))"
   ]
  },
  {
   "cell_type": "markdown",
   "metadata": {},
   "source": [
    "# SVM - predict school type based on share of students taking loan and median debt for three income brackets"
   ]
  },
  {
   "cell_type": "code",
   "execution_count": 20,
   "metadata": {
    "collapsed": true
   },
   "outputs": [],
   "source": [
    "test_variables = ['CONTROL', 'LO_INC_DEBT_MDN', 'HI_INC_DEBT_MDN', 'MD_INC_DEBT_MDN', 'LOAN_EVER']"
   ]
  },
  {
   "cell_type": "code",
   "execution_count": 21,
   "metadata": {},
   "outputs": [],
   "source": [
    "test2 = df_4yr_2010[test_variables]"
   ]
  },
  {
   "cell_type": "code",
   "execution_count": 22,
   "metadata": {},
   "outputs": [
    {
     "name": "stderr",
     "output_type": "stream",
     "text": [
      "C:\\Users\\shibbie\\Anaconda_2\\lib\\site-packages\\ipykernel\\__main__.py:1: FutureWarning: convert_objects is deprecated.  Use the data-type specific converters pd.to_datetime, pd.to_timedelta and pd.to_numeric.\n",
      "  if __name__ == '__main__':\n"
     ]
    }
   ],
   "source": [
    "test2 = test2.convert_objects(convert_numeric = 'coerce')\n",
    "test2.dropna(inplace = True)"
   ]
  },
  {
   "cell_type": "code",
   "execution_count": 23,
   "metadata": {},
   "outputs": [
    {
     "data": {
      "text/html": [
       "<div>\n",
       "<table border=\"1\" class=\"dataframe\">\n",
       "  <thead>\n",
       "    <tr style=\"text-align: right;\">\n",
       "      <th></th>\n",
       "      <th>LO_INC_DEBT_MDN</th>\n",
       "      <th>HI_INC_DEBT_MDN</th>\n",
       "      <th>MD_INC_DEBT_MDN</th>\n",
       "      <th>LOAN_EVER</th>\n",
       "    </tr>\n",
       "    <tr>\n",
       "      <th>CONTROL</th>\n",
       "      <th></th>\n",
       "      <th></th>\n",
       "      <th></th>\n",
       "      <th></th>\n",
       "    </tr>\n",
       "  </thead>\n",
       "  <tbody>\n",
       "    <tr>\n",
       "      <th>1</th>\n",
       "      <td>10418.746586</td>\n",
       "      <td>10019.700303</td>\n",
       "      <td>10857.918058</td>\n",
       "      <td>0.845874</td>\n",
       "    </tr>\n",
       "    <tr>\n",
       "      <th>2</th>\n",
       "      <td>13123.678832</td>\n",
       "      <td>13254.053832</td>\n",
       "      <td>14254.295164</td>\n",
       "      <td>0.922188</td>\n",
       "    </tr>\n",
       "    <tr>\n",
       "      <th>3</th>\n",
       "      <td>7542.325221</td>\n",
       "      <td>9675.659292</td>\n",
       "      <td>9224.017699</td>\n",
       "      <td>0.896134</td>\n",
       "    </tr>\n",
       "  </tbody>\n",
       "</table>\n",
       "</div>"
      ],
      "text/plain": [
       "         LO_INC_DEBT_MDN  HI_INC_DEBT_MDN  MD_INC_DEBT_MDN  LOAN_EVER\n",
       "CONTROL                                                              \n",
       "1           10418.746586     10019.700303     10857.918058   0.845874\n",
       "2           13123.678832     13254.053832     14254.295164   0.922188\n",
       "3            7542.325221      9675.659292      9224.017699   0.896134"
      ]
     },
     "execution_count": 23,
     "metadata": {},
     "output_type": "execute_result"
    }
   ],
   "source": [
    "test2.groupby('CONTROL').mean()"
   ]
  },
  {
   "cell_type": "code",
   "execution_count": 24,
   "metadata": {},
   "outputs": [
    {
     "data": {
      "text/plain": [
       "CONTROL\n",
       "1    0.270859\n",
       "2    0.450473\n",
       "3    0.278668\n",
       "Name: LOAN_EVER, dtype: float64"
      ]
     },
     "execution_count": 24,
     "metadata": {},
     "output_type": "execute_result"
    }
   ],
   "source": [
    "# percentages of each type. 1 = Public, 2 = Private Non-Profit, 3 = Private For-Profit\n",
    "test2.groupby('CONTROL')['LOAN_EVER'].count() / len(test2)"
   ]
  },
  {
   "cell_type": "code",
   "execution_count": 25,
   "metadata": {
    "collapsed": true
   },
   "outputs": [],
   "source": [
    "X = test2[test2.columns[1:]]\n",
    "Y = test2[test2.columns[0]]"
   ]
  },
  {
   "cell_type": "code",
   "execution_count": 32,
   "metadata": {},
   "outputs": [
    {
     "name": "stdout",
     "output_type": "stream",
     "text": [
      "Insample misclassified = 40.281855549%\n",
      "For training size of 1703\n",
      "288 misclassified data out of 730 ( 39.45 %)\n"
     ]
    },
    {
     "data": {
      "image/png": "[encoded data removed]",
      "text/plain": [
       "<matplotlib.figure.Figure at 0x1f35af60>"
      ]
     },
     "metadata": {},
     "output_type": "display_data"
    }
   ],
   "source": [
    "X_train, X_test, Y_train, Y_test = train_test_split(X, Y, train_size = .7, random_state=3)\n",
    "ts, = Y_test.shape\n",
    "\n",
    "svm_linear = svm.SVC(kernel='linear')\n",
    "svm_linear.fit(X_train, Y_train)\n",
    "ypred_svm_linear = svm_linear.predict(X_test)\n",
    "e_svm_linear = sum(ypred_svm_linear != Y_test)\n",
    "insample_incorrect = sum(Y_train != svm_linear.predict(X_train)) / Y_train.shape[0] * 100\n",
    "print 'Insample misclassified = {0}%'.format(insample_incorrect)\n",
    "\n",
    "\n",
    "print 'For training size of {0}'.format(len(X_train))\n",
    "print e_svm_linear, \"misclassified data out of\", ts, \"(\", round(e_svm_linear/ts, 4) * 100,\"%)\"\n",
    "\n",
    "conf_m = confusion_matrix(Y_test, ypred_svm_linear)\n",
    "fig = pl.figure(figsize = (10, 10))\n",
    "plot_confusion_matrix(conf_m, classes = labels, \n",
    "                      title = 'Confusion Matrix - SVM Linear with Train Size {0}'.format(len(X_train)))\n",
    "pl.savefig('confusion_matrix_SVM_Linear_{0}.jpg'.format(str(len(X_train))))"
   ]
  },
  {
   "cell_type": "code",
   "execution_count": 33,
   "metadata": {},
   "outputs": [
    {
     "name": "stdout",
     "output_type": "stream",
     "text": [
      "Insample misclassified = 0.587199060482%\n",
      "For training size of 1703\n",
      "208 misclassified data out of 730 ( 28.49 %)\n"
     ]
    },
    {
     "data": {
      "image/png": "[encoded data removed]",
      "text/plain": [
       "<matplotlib.figure.Figure at 0x1f35ae80>"
      ]
     },
     "metadata": {},
     "output_type": "display_data"
    }
   ],
   "source": [
    "svm_rbf = svm.SVC(kernel='rbf')\n",
    "svm_rbf.fit(X_train, Y_train)\n",
    "ypred_svm_rbf = svm_rbf.predict(X_test)\n",
    "e_svm_rbf = sum(ypred_svm_rbf != Y_test)\n",
    "insample_incorrect = sum(Y_train != svm_rbf.predict(X_train)) / Y_train.shape[0] * 100\n",
    "print 'Insample misclassified = {0}%'.format(insample_incorrect)\n",
    "\n",
    "\n",
    "print 'For training size of {0}'.format(len(X_train))\n",
    "print e_svm_rbf, \"misclassified data out of\", ts, \"(\", round(e_svm_rbf/ts, 4) * 100,\"%)\"\n",
    "\n",
    "conf_m = confusion_matrix(Y_test, ypred_svm_rbf)\n",
    "fig = pl.figure(figsize = (10, 10))\n",
    "plot_confusion_matrix(conf_m, classes = labels, \n",
    "                      title = 'Confusion Matrix - SVM Linear with Train Size {0}'.format(len(X_train)))"
   ]
  },
  {
   "cell_type": "code",
   "execution_count": 149,
   "metadata": {},
   "outputs": [],
   "source": [
    "def classifier(X_train, Y_train, X_test, Y_test, depth, classifier = DecisionTreeClassifier, extra_classifier = None, \n",
    "               conf_m = False, **kwargs):\n",
    "    \n",
    "    ts = len(X_test)\n",
    "    \n",
    "    if extra_classifier == None and classifier == DecisionTreeClassifier:\n",
    "        \n",
    "        model = classifier(max_depth = depth)\n",
    "    \n",
    "    elif extra_classifier == None and classifier != DecisionTreeClassifier:\n",
    "        \n",
    "        model = classifier(max_depth = depth, **kwargs)\n",
    "        \n",
    "    else: \n",
    "        model = extra_classifier(DecisionTreeClassifier(max_depth = depth), **kwargs)\n",
    "    \n",
    "    model.fit(X_train, Y_train)\n",
    "        \n",
    "    ypred = model.predict(X_test)\n",
    "\n",
    "    insample_incorrect_perc = sum(Y_train != model.predict(X_train)) / Y_train.shape[0] * 100\n",
    "    print 'Insample misclassified = {0}%'.format(round(insample_incorrect_perc, 4))\n",
    "\n",
    "    outsample_incorrect = sum(ypred != Y_test)\n",
    "    outsample_perc_incorrect = outsample_incorrect / ts * 100\n",
    "    print 'For training size of {0}'.format(len(X_train))\n",
    "    print '{0} misclassified data out of {1} ({2}%)'.format(outsample_incorrect, ts, round(outsample_perc_incorrect, 4))\n",
    "\n",
    "    if conf_m == True:\n",
    "        conf_m = confusion_matrix(Y_test, ypred)\n",
    "        fig = pl.figure(figsize = (10, 10))\n",
    "        plot_confusion_matrix(conf_m, classes = labels, \n",
    "                              title = 'Confusion Matrix - SVM Linear with Train Size {0}'.format(len(X_train)))"
   ]
  },
  {
   "cell_type": "code",
   "execution_count": 150,
   "metadata": {},
   "outputs": [
    {
     "name": "stdout",
     "output_type": "stream",
     "text": [
      "----Results for Depth 5: Decision Tree Classifier ----\n",
      "Insample misclassified = 23.488%\n",
      "For training size of 1703\n",
      "203 misclassified data out of 730 (27.8082%)\n",
      "----Results for Depth 10: Decision Tree Classifier ----\n",
      "Insample misclassified = 9.8062%\n",
      "For training size of 1703\n",
      "183 misclassified data out of 730 (25.0685%)\n",
      "----Results for Depth 15: Decision Tree Classifier ----\n",
      "Insample misclassified = 1.9965%\n",
      "For training size of 1703\n",
      "184 misclassified data out of 730 (25.2055%)\n",
      "----Results for Depth 20: Decision Tree Classifier ----\n",
      "Insample misclassified = 0.1174%\n",
      "For training size of 1703\n",
      "188 misclassified data out of 730 (25.7534%)\n"
     ]
    }
   ],
   "source": [
    "for depth in [5, 10, 15, 20]:\n",
    "    print '----Results for Depth {0}: Decision Tree Classifier ----'.format(depth)\n",
    "    classifier(X_train, Y_train, X_test, Y_test, depth)"
   ]
  },
  {
   "cell_type": "code",
   "execution_count": 151,
   "metadata": {},
   "outputs": [
    {
     "name": "stdout",
     "output_type": "stream",
     "text": [
      "----Results for Depth 5 and 5 Base Estimators: Decision Tree w/Bagging ----\n",
      "Insample misclassified = 22.9595%\n",
      "For training size of 1703\n",
      "212 misclassified data out of 730 (29.0411%)\n",
      "----Results for Depth 5 and 10 Base Estimators: Decision Tree w/Bagging ----\n",
      "Insample misclassified = 22.431%\n",
      "For training size of 1703\n",
      "206 misclassified data out of 730 (28.2192%)\n",
      "----Results for Depth 5 and 15 Base Estimators: Decision Tree w/Bagging ----\n",
      "Insample misclassified = 22.6659%\n",
      "For training size of 1703\n",
      "201 misclassified data out of 730 (27.5342%)\n",
      "----Results for Depth 5 and 20 Base Estimators: Decision Tree w/Bagging ----\n",
      "Insample misclassified = 21.9025%\n",
      "For training size of 1703\n",
      "205 misclassified data out of 730 (28.0822%)\n",
      "----Results for Depth 5 and 25 Base Estimators: Decision Tree w/Bagging ----\n",
      "Insample misclassified = 22.1961%\n",
      "For training size of 1703\n",
      "194 misclassified data out of 730 (26.5753%)\n",
      "----Results for Depth 5 and 30 Base Estimators: Decision Tree w/Bagging ----\n",
      "Insample misclassified = 21.9612%\n",
      "For training size of 1703\n",
      "202 misclassified data out of 730 (27.6712%)\n",
      "----Results for Depth 10 and 5 Base Estimators: Decision Tree w/Bagging ----\n",
      "Insample misclassified = 8.0446%\n",
      "For training size of 1703\n",
      "173 misclassified data out of 730 (23.6986%)\n",
      "----Results for Depth 10 and 10 Base Estimators: Decision Tree w/Bagging ----\n",
      "Insample misclassified = 6.9877%\n",
      "For training size of 1703\n",
      "176 misclassified data out of 730 (24.1096%)\n",
      "----Results for Depth 10 and 15 Base Estimators: Decision Tree w/Bagging ----\n",
      "Insample misclassified = 7.2225%\n",
      "For training size of 1703\n",
      "160 misclassified data out of 730 (21.9178%)\n",
      "----Results for Depth 10 and 20 Base Estimators: Decision Tree w/Bagging ----\n",
      "Insample misclassified = 5.3435%\n",
      "For training size of 1703\n",
      "165 misclassified data out of 730 (22.6027%)\n",
      "----Results for Depth 10 and 25 Base Estimators: Decision Tree w/Bagging ----\n",
      "Insample misclassified = 5.0499%\n",
      "For training size of 1703\n",
      "156 misclassified data out of 730 (21.3699%)\n",
      "----Results for Depth 10 and 30 Base Estimators: Decision Tree w/Bagging ----\n",
      "Insample misclassified = 5.6958%\n",
      "For training size of 1703\n",
      "163 misclassified data out of 730 (22.3288%)\n",
      "----Results for Depth 15 and 5 Base Estimators: Decision Tree w/Bagging ----\n",
      "Insample misclassified = 3.1709%\n",
      "For training size of 1703\n",
      "173 misclassified data out of 730 (23.6986%)\n",
      "----Results for Depth 15 and 10 Base Estimators: Decision Tree w/Bagging ----\n",
      "Insample misclassified = 1.9965%\n",
      "For training size of 1703\n",
      "164 misclassified data out of 730 (22.4658%)\n",
      "----Results for Depth 15 and 15 Base Estimators: Decision Tree w/Bagging ----\n",
      "Insample misclassified = 0.4698%\n",
      "For training size of 1703\n",
      "164 misclassified data out of 730 (22.4658%)\n",
      "----Results for Depth 15 and 20 Base Estimators: Decision Tree w/Bagging ----\n",
      "Insample misclassified = 0.4698%\n",
      "For training size of 1703\n",
      "161 misclassified data out of 730 (22.0548%)\n",
      "----Results for Depth 15 and 25 Base Estimators: Decision Tree w/Bagging ----\n",
      "Insample misclassified = 0.5285%\n",
      "For training size of 1703\n",
      "159 misclassified data out of 730 (21.7808%)\n",
      "----Results for Depth 15 and 30 Base Estimators: Decision Tree w/Bagging ----\n",
      "Insample misclassified = 0.1174%\n",
      "For training size of 1703\n",
      "156 misclassified data out of 730 (21.3699%)\n",
      "----Results for Depth 20 and 5 Base Estimators: Decision Tree w/Bagging ----\n",
      "Insample misclassified = 3.0534%\n",
      "For training size of 1703\n",
      "180 misclassified data out of 730 (24.6575%)\n",
      "----Results for Depth 20 and 10 Base Estimators: Decision Tree w/Bagging ----\n",
      "Insample misclassified = 1.057%\n",
      "For training size of 1703\n",
      "165 misclassified data out of 730 (22.6027%)\n",
      "----Results for Depth 20 and 15 Base Estimators: Decision Tree w/Bagging ----\n",
      "Insample misclassified = 0.3523%\n",
      "For training size of 1703\n",
      "150 misclassified data out of 730 (20.5479%)\n",
      "----Results for Depth 20 and 20 Base Estimators: Decision Tree w/Bagging ----\n",
      "Insample misclassified = 0.6459%\n",
      "For training size of 1703\n",
      "160 misclassified data out of 730 (21.9178%)\n",
      "----Results for Depth 20 and 25 Base Estimators: Decision Tree w/Bagging ----\n",
      "Insample misclassified = 0.3523%\n",
      "For training size of 1703\n",
      "153 misclassified data out of 730 (20.9589%)\n",
      "----Results for Depth 20 and 30 Base Estimators: Decision Tree w/Bagging ----\n",
      "Insample misclassified = 0.2936%\n",
      "For training size of 1703\n",
      "163 misclassified data out of 730 (22.3288%)\n"
     ]
    }
   ],
   "source": [
    "for depth in [5, 10, 15, 20]:\n",
    "    for n in [5, 10, 15, 20, 25, 30]:\n",
    "        print '----Results for Depth {0} and {1} Base Estimators: Decision Tree w/Bagging ----'.format(depth, n)\n",
    "        classifier(X_train, Y_train, X_test, Y_test, depth, extra_classifier = BaggingClassifier, \n",
    "                   n_estimators = n)"
   ]
  },
  {
   "cell_type": "code",
   "execution_count": 152,
   "metadata": {},
   "outputs": [
    {
     "name": "stdout",
     "output_type": "stream",
     "text": [
      "----Results for Depth 5 and 5 Base Estimators: Decision Tree w/ADA Boost ----\n",
      "Insample misclassified = 21.0804%\n",
      "For training size of 1703\n",
      "228 misclassified data out of 730 (31.2329%)\n",
      "----Results for Depth 5 and 10 Base Estimators: Decision Tree w/ADA Boost ----\n",
      "Insample misclassified = 15.6782%\n",
      "For training size of 1703\n",
      "223 misclassified data out of 730 (30.5479%)\n",
      "----Results for Depth 5 and 15 Base Estimators: Decision Tree w/ADA Boost ----\n",
      "Insample misclassified = 12.8009%\n",
      "For training size of 1703\n",
      "201 misclassified data out of 730 (27.5342%)\n",
      "----Results for Depth 5 and 20 Base Estimators: Decision Tree w/ADA Boost ----\n",
      "Insample misclassified = 9.4539%\n",
      "For training size of 1703\n",
      "197 misclassified data out of 730 (26.9863%)\n",
      "----Results for Depth 5 and 25 Base Estimators: Decision Tree w/ADA Boost ----\n",
      "Insample misclassified = 8.7493%\n",
      "For training size of 1703\n",
      "184 misclassified data out of 730 (25.2055%)\n",
      "----Results for Depth 5 and 30 Base Estimators: Decision Tree w/ADA Boost ----\n",
      "Insample misclassified = 6.9289%\n",
      "For training size of 1703\n",
      "185 misclassified data out of 730 (25.3425%)\n",
      "----Results for Depth 10 and 5 Base Estimators: Decision Tree w/ADA Boost ----\n",
      "Insample misclassified = 0.2936%\n",
      "For training size of 1703\n",
      "155 misclassified data out of 730 (21.2329%)\n",
      "----Results for Depth 10 and 10 Base Estimators: Decision Tree w/ADA Boost ----\n",
      "Insample misclassified = 0.0%\n",
      "For training size of 1703\n",
      "159 misclassified data out of 730 (21.7808%)\n",
      "----Results for Depth 10 and 15 Base Estimators: Decision Tree w/ADA Boost ----\n",
      "Insample misclassified = 0.0%\n",
      "For training size of 1703\n",
      "150 misclassified data out of 730 (20.5479%)\n",
      "----Results for Depth 10 and 20 Base Estimators: Decision Tree w/ADA Boost ----\n",
      "Insample misclassified = 0.0%\n",
      "For training size of 1703\n",
      "160 misclassified data out of 730 (21.9178%)\n",
      "----Results for Depth 10 and 25 Base Estimators: Decision Tree w/ADA Boost ----\n",
      "Insample misclassified = 0.0%\n",
      "For training size of 1703\n",
      "150 misclassified data out of 730 (20.5479%)\n",
      "----Results for Depth 10 and 30 Base Estimators: Decision Tree w/ADA Boost ----\n",
      "Insample misclassified = 0.0%\n",
      "For training size of 1703\n",
      "154 misclassified data out of 730 (21.0959%)\n",
      "----Results for Depth 15 and 5 Base Estimators: Decision Tree w/ADA Boost ----\n",
      "Insample misclassified = 0.0%\n",
      "For training size of 1703\n",
      "164 misclassified data out of 730 (22.4658%)\n",
      "----Results for Depth 15 and 10 Base Estimators: Decision Tree w/ADA Boost ----\n",
      "Insample misclassified = 0.0%\n",
      "For training size of 1703\n",
      "159 misclassified data out of 730 (21.7808%)\n",
      "----Results for Depth 15 and 15 Base Estimators: Decision Tree w/ADA Boost ----\n",
      "Insample misclassified = 0.0%\n",
      "For training size of 1703\n",
      "166 misclassified data out of 730 (22.7397%)\n",
      "----Results for Depth 15 and 20 Base Estimators: Decision Tree w/ADA Boost ----\n",
      "Insample misclassified = 0.0%\n",
      "For training size of 1703\n",
      "158 misclassified data out of 730 (21.6438%)\n",
      "----Results for Depth 15 and 25 Base Estimators: Decision Tree w/ADA Boost ----\n",
      "Insample misclassified = 0.0%\n",
      "For training size of 1703\n",
      "154 misclassified data out of 730 (21.0959%)\n",
      "----Results for Depth 15 and 30 Base Estimators: Decision Tree w/ADA Boost ----\n",
      "Insample misclassified = 0.0%\n",
      "For training size of 1703\n",
      "153 misclassified data out of 730 (20.9589%)\n",
      "----Results for Depth 20 and 5 Base Estimators: Decision Tree w/ADA Boost ----\n",
      "Insample misclassified = 0.0%\n",
      "For training size of 1703\n",
      "173 misclassified data out of 730 (23.6986%)\n",
      "----Results for Depth 20 and 10 Base Estimators: Decision Tree w/ADA Boost ----\n",
      "Insample misclassified = 0.0%\n",
      "For training size of 1703\n",
      "179 misclassified data out of 730 (24.5205%)\n",
      "----Results for Depth 20 and 15 Base Estimators: Decision Tree w/ADA Boost ----\n",
      "Insample misclassified = 0.0%\n",
      "For training size of 1703\n",
      "172 misclassified data out of 730 (23.5616%)\n",
      "----Results for Depth 20 and 20 Base Estimators: Decision Tree w/ADA Boost ----\n",
      "Insample misclassified = 0.0%\n",
      "For training size of 1703\n",
      "172 misclassified data out of 730 (23.5616%)\n",
      "----Results for Depth 20 and 25 Base Estimators: Decision Tree w/ADA Boost ----\n",
      "Insample misclassified = 0.0%\n",
      "For training size of 1703\n",
      "178 misclassified data out of 730 (24.3836%)\n",
      "----Results for Depth 20 and 30 Base Estimators: Decision Tree w/ADA Boost ----\n",
      "Insample misclassified = 0.0%\n",
      "For training size of 1703\n",
      "166 misclassified data out of 730 (22.7397%)\n"
     ]
    }
   ],
   "source": [
    "for depth in [5, 10, 15, 20]:\n",
    "    for n in [5, 10, 15, 20, 25, 30]:\n",
    "        print '----Results for Depth {0} and {1} Base Estimators: Decision Tree w/ADA Boost ----'.format(depth, n)\n",
    "        classifier(X_train, Y_train, X_test, Y_test, depth, extra_classifier = AdaBoostClassifier, n_estimators = n)"
   ]
  },
  {
   "cell_type": "code",
   "execution_count": 153,
   "metadata": {},
   "outputs": [
    {
     "name": "stdout",
     "output_type": "stream",
     "text": [
      "----Results for Depth 5 and 5 Base Estimators: Decision Tree w/ Gradient Boost ----\n",
      "Insample misclassified = 19.9648%\n",
      "For training size of 1703\n",
      "175 misclassified data out of 730 (23.9726%)\n",
      "----Results for Depth 5 and 10 Base Estimators: Decision Tree w/ Gradient Boost ----\n",
      "Insample misclassified = 18.7317%\n",
      "For training size of 1703\n",
      "176 misclassified data out of 730 (24.1096%)\n",
      "----Results for Depth 5 and 15 Base Estimators: Decision Tree w/ Gradient Boost ----\n",
      "Insample misclassified = 15.9718%\n",
      "For training size of 1703\n",
      "166 misclassified data out of 730 (22.7397%)\n",
      "----Results for Depth 5 and 20 Base Estimators: Decision Tree w/ Gradient Boost ----\n",
      "Insample misclassified = 15.2672%\n",
      "For training size of 1703\n",
      "162 misclassified data out of 730 (22.1918%)\n",
      "----Results for Depth 5 and 25 Base Estimators: Decision Tree w/ Gradient Boost ----\n",
      "Insample misclassified = 14.2689%\n",
      "For training size of 1703\n",
      "153 misclassified data out of 730 (20.9589%)\n",
      "----Results for Depth 5 and 30 Base Estimators: Decision Tree w/ Gradient Boost ----\n",
      "Insample misclassified = 13.2707%\n",
      "For training size of 1703\n",
      "156 misclassified data out of 730 (21.3699%)\n",
      "----Results for Depth 10 and 5 Base Estimators: Decision Tree w/ Gradient Boost ----\n",
      "Insample misclassified = 1.7029%\n",
      "For training size of 1703\n",
      "174 misclassified data out of 730 (23.8356%)\n",
      "----Results for Depth 10 and 10 Base Estimators: Decision Tree w/ Gradient Boost ----\n",
      "Insample misclassified = 0.411%\n",
      "For training size of 1703\n",
      "164 misclassified data out of 730 (22.4658%)\n",
      "----Results for Depth 10 and 15 Base Estimators: Decision Tree w/ Gradient Boost ----\n",
      "Insample misclassified = 0.1762%\n",
      "For training size of 1703\n",
      "163 misclassified data out of 730 (22.3288%)\n",
      "----Results for Depth 10 and 20 Base Estimators: Decision Tree w/ Gradient Boost ----\n",
      "Insample misclassified = 0.0587%\n",
      "For training size of 1703\n",
      "165 misclassified data out of 730 (22.6027%)\n",
      "----Results for Depth 10 and 25 Base Estimators: Decision Tree w/ Gradient Boost ----\n",
      "Insample misclassified = 0.0%\n",
      "For training size of 1703\n",
      "162 misclassified data out of 730 (22.1918%)\n",
      "----Results for Depth 10 and 30 Base Estimators: Decision Tree w/ Gradient Boost ----\n",
      "Insample misclassified = 0.0%\n",
      "For training size of 1703\n",
      "157 misclassified data out of 730 (21.5068%)\n",
      "----Results for Depth 15 and 5 Base Estimators: Decision Tree w/ Gradient Boost ----\n",
      "Insample misclassified = 0.0%\n",
      "For training size of 1703\n",
      "177 misclassified data out of 730 (24.2466%)\n",
      "----Results for Depth 15 and 10 Base Estimators: Decision Tree w/ Gradient Boost ----\n",
      "Insample misclassified = 0.0%\n",
      "For training size of 1703\n",
      "174 misclassified data out of 730 (23.8356%)\n",
      "----Results for Depth 15 and 15 Base Estimators: Decision Tree w/ Gradient Boost ----\n",
      "Insample misclassified = 0.0%\n",
      "For training size of 1703\n",
      "166 misclassified data out of 730 (22.7397%)\n",
      "----Results for Depth 15 and 20 Base Estimators: Decision Tree w/ Gradient Boost ----\n",
      "Insample misclassified = 0.0%\n",
      "For training size of 1703\n",
      "174 misclassified data out of 730 (23.8356%)\n",
      "----Results for Depth 15 and 25 Base Estimators: Decision Tree w/ Gradient Boost ----\n",
      "Insample misclassified = 0.0%\n",
      "For training size of 1703\n",
      "169 misclassified data out of 730 (23.1507%)\n",
      "----Results for Depth 15 and 30 Base Estimators: Decision Tree w/ Gradient Boost ----\n",
      "Insample misclassified = 0.0%\n",
      "For training size of 1703\n",
      "171 misclassified data out of 730 (23.4247%)\n",
      "----Results for Depth 20 and 5 Base Estimators: Decision Tree w/ Gradient Boost ----\n",
      "Insample misclassified = 0.0%\n",
      "For training size of 1703\n",
      "174 misclassified data out of 730 (23.8356%)\n",
      "----Results for Depth 20 and 10 Base Estimators: Decision Tree w/ Gradient Boost ----\n",
      "Insample misclassified = 0.0%\n",
      "For training size of 1703\n",
      "175 misclassified data out of 730 (23.9726%)\n",
      "----Results for Depth 20 and 15 Base Estimators: Decision Tree w/ Gradient Boost ----\n",
      "Insample misclassified = 0.0%\n",
      "For training size of 1703\n",
      "180 misclassified data out of 730 (24.6575%)\n",
      "----Results for Depth 20 and 20 Base Estimators: Decision Tree w/ Gradient Boost ----\n",
      "Insample misclassified = 0.0%\n",
      "For training size of 1703\n",
      "179 misclassified data out of 730 (24.5205%)\n",
      "----Results for Depth 20 and 25 Base Estimators: Decision Tree w/ Gradient Boost ----\n",
      "Insample misclassified = 0.0%\n",
      "For training size of 1703\n",
      "179 misclassified data out of 730 (24.5205%)\n",
      "----Results for Depth 20 and 30 Base Estimators: Decision Tree w/ Gradient Boost ----\n",
      "Insample misclassified = 0.0%\n",
      "For training size of 1703\n",
      "176 misclassified data out of 730 (24.1096%)\n"
     ]
    }
   ],
   "source": [
    "for depth in [5, 10, 15, 20]:\n",
    "    for n in [5, 10, 15, 20, 25, 30]:\n",
    "        print '----Results for Depth {0} and {1} Base Estimators: Decision Tree w/ Gradient Boost ----'.format(depth, n)\n",
    "        classifier(X_train, Y_train, X_test, Y_test, depth, classifier = GradientBoostingClassifier, \n",
    "                   n_estimators = n)"
   ]
  },
  {
   "cell_type": "code",
   "execution_count": 154,
   "metadata": {},
   "outputs": [
    {
     "name": "stdout",
     "output_type": "stream",
     "text": [
      "----Results for Depth 5 and 5 Base Estimators: Random Forest----\n",
      "Insample misclassified = 20.4345%\n",
      "For training size of 1703\n",
      "180 misclassified data out of 730 (24.6575%)\n",
      "----Results for Depth 5 and 10 Base Estimators: Random Forest----\n",
      "Insample misclassified = 22.6659%\n",
      "For training size of 1703\n",
      "192 misclassified data out of 730 (26.3014%)\n",
      "----Results for Depth 5 and 15 Base Estimators: Random Forest----\n",
      "Insample misclassified = 21.374%\n",
      "For training size of 1703\n",
      "180 misclassified data out of 730 (24.6575%)\n",
      "----Results for Depth 5 and 20 Base Estimators: Random Forest----\n",
      "Insample misclassified = 21.0804%\n",
      "For training size of 1703\n",
      "184 misclassified data out of 730 (25.2055%)\n",
      "----Results for Depth 5 and 25 Base Estimators: Random Forest----\n",
      "Insample misclassified = 22.1961%\n",
      "For training size of 1703\n",
      "199 misclassified data out of 730 (27.2603%)\n",
      "----Results for Depth 5 and 30 Base Estimators: Random Forest----\n",
      "Insample misclassified = 21.5502%\n",
      "For training size of 1703\n",
      "195 misclassified data out of 730 (26.7123%)\n",
      "----Results for Depth 10 and 5 Base Estimators: Random Forest----\n",
      "Insample misclassified = 8.9254%\n",
      "For training size of 1703\n",
      "184 misclassified data out of 730 (25.2055%)\n",
      "----Results for Depth 10 and 10 Base Estimators: Random Forest----\n",
      "Insample misclassified = 5.2848%\n",
      "For training size of 1703\n",
      "170 misclassified data out of 730 (23.2877%)\n",
      "----Results for Depth 10 and 15 Base Estimators: Random Forest----\n",
      "Insample misclassified = 5.7546%\n",
      "For training size of 1703\n",
      "155 misclassified data out of 730 (21.2329%)\n",
      "----Results for Depth 10 and 20 Base Estimators: Random Forest----\n",
      "Insample misclassified = 4.4627%\n",
      "For training size of 1703\n",
      "156 misclassified data out of 730 (21.3699%)\n",
      "----Results for Depth 10 and 25 Base Estimators: Random Forest----\n",
      "Insample misclassified = 4.815%\n",
      "For training size of 1703\n",
      "159 misclassified data out of 730 (21.7808%)\n",
      "----Results for Depth 10 and 30 Base Estimators: Random Forest----\n",
      "Insample misclassified = 5.1674%\n",
      "For training size of 1703\n",
      "157 misclassified data out of 730 (21.5068%)\n",
      "----Results for Depth 15 and 5 Base Estimators: Random Forest----\n",
      "Insample misclassified = 3.5232%\n",
      "For training size of 1703\n",
      "161 misclassified data out of 730 (22.0548%)\n",
      "----Results for Depth 15 and 10 Base Estimators: Random Forest----\n",
      "Insample misclassified = 1.3506%\n",
      "For training size of 1703\n",
      "158 misclassified data out of 730 (21.6438%)\n",
      "----Results for Depth 15 and 15 Base Estimators: Random Forest----\n",
      "Insample misclassified = 0.8221%\n",
      "For training size of 1703\n",
      "152 misclassified data out of 730 (20.8219%)\n",
      "----Results for Depth 15 and 20 Base Estimators: Random Forest----\n",
      "Insample misclassified = 0.5285%\n",
      "For training size of 1703\n",
      "155 misclassified data out of 730 (21.2329%)\n",
      "----Results for Depth 15 and 25 Base Estimators: Random Forest----\n",
      "Insample misclassified = 0.5285%\n",
      "For training size of 1703\n",
      "152 misclassified data out of 730 (20.8219%)\n",
      "----Results for Depth 15 and 30 Base Estimators: Random Forest----\n",
      "Insample misclassified = 0.1762%\n",
      "For training size of 1703\n",
      "158 misclassified data out of 730 (21.6438%)\n",
      "----Results for Depth 20 and 5 Base Estimators: Random Forest----\n",
      "Insample misclassified = 2.4075%\n",
      "For training size of 1703\n",
      "164 misclassified data out of 730 (22.4658%)\n",
      "----Results for Depth 20 and 10 Base Estimators: Random Forest----\n",
      "Insample misclassified = 0.8221%\n",
      "For training size of 1703\n",
      "159 misclassified data out of 730 (21.7808%)\n",
      "----Results for Depth 20 and 15 Base Estimators: Random Forest----\n",
      "Insample misclassified = 0.411%\n",
      "For training size of 1703\n",
      "154 misclassified data out of 730 (21.0959%)\n",
      "----Results for Depth 20 and 20 Base Estimators: Random Forest----\n",
      "Insample misclassified = 0.3523%\n",
      "For training size of 1703\n",
      "151 misclassified data out of 730 (20.6849%)\n",
      "----Results for Depth 20 and 25 Base Estimators: Random Forest----\n",
      "Insample misclassified = 0.1762%\n",
      "For training size of 1703\n",
      "150 misclassified data out of 730 (20.5479%)\n",
      "----Results for Depth 20 and 30 Base Estimators: Random Forest----\n",
      "Insample misclassified = 0.1174%\n",
      "For training size of 1703\n",
      "163 misclassified data out of 730 (22.3288%)\n"
     ]
    }
   ],
   "source": [
    "for depth in [5, 10, 15, 20]:\n",
    "    for n in [5, 10, 15, 20, 25, 30]:\n",
    "        print '----Results for Depth {0} and {1} Base Estimators: Random Forest----'.format(depth, n)\n",
    "        classifier(X_train, Y_train, X_test, Y_test, depth, classifier = RandomForestClassifier, \n",
    "                   n_estimators = n)"
   ]
  },
  {
   "cell_type": "code",
   "execution_count": null,
   "metadata": {
    "collapsed": true
   },
   "outputs": [],
   "source": []
  }
 ],
 "metadata": {
  "kernelspec": {
   "display_name": "Python 2",
   "language": "python",
   "name": "python2"
  },
  "language_info": {
   "codemirror_mode": {
    "name": "ipython",
    "version": 2
   },
   "file_extension": ".py",
   "mimetype": "text/x-python",
   "name": "python",
   "nbconvert_exporter": "python",
   "pygments_lexer": "ipython2",
   "version": "2.7.13"
  }
 },
 "nbformat": 4,
 "nbformat_minor": 2
}
