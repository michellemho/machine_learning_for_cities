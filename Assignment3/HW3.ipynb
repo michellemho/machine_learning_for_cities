{
 "cells": [
  {
   "cell_type": "code",
   "execution_count": 1,
   "metadata": {
    "collapsed": false
   },
   "outputs": [
    {
     "name": "stdout",
     "output_type": "stream",
     "text": [
      "Populating the interactive namespace from numpy and matplotlib\n"
     ]
    }
   ],
   "source": [
    "import os, sys\n",
    "import pandas as pd\n",
    "import zipfile as zf\n",
    "import requests\n",
    "\n",
    "from sklearn import svm\n",
    "from sklearn.model_selection import train_test_split\n",
    "from sklearn import cluster\n",
    "from sklearn.metrics import confusion_matrix\n",
    "import urllib\n",
    "import itertools\n",
    "import pylab as pl\n",
    "import seaborn as sns\n",
    "\n",
    "from __future__ import division\n",
    "\n",
    "% pylab inline"
   ]
  },
  {
   "cell_type": "markdown",
   "metadata": {},
   "source": [
    "# Data download and move to data directory"
   ]
  },
  {
   "cell_type": "code",
   "execution_count": 3,
   "metadata": {
    "collapsed": false
   },
   "outputs": [
    {
     "name": "stderr",
     "output_type": "stream",
     "text": [
      "C:\\Users\\shibbie\\Anaconda_2\\lib\\site-packages\\IPython\\core\\interactiveshell.py:2717: DtypeWarning: Columns (1,6,1461,1561,1729) have mixed types. Specify dtype option on import or set low_memory=False.\n",
      "  interactivity=interactivity, compiler=compiler, result=result)\n"
     ]
    }
   ],
   "source": [
    "try:\n",
    "    df_2010 = pd.read_csv('Data\\\\CollegeScorecard_Raw_Data\\\\MERGED2010_11_PP.csv')\n",
    "\n",
    "except: \n",
    "\n",
    "    url = 'https://ed-public-download.apps.cloud.gov/downloads/CollegeScorecard_Raw_Data.zip'\n",
    "    file_name = url.split('/')[-1]\n",
    "    r = requests.get(url)\n",
    "    with open(file_name, \"wb\") as code:\n",
    "        code.write(r.content)\n",
    "    zipref = zf.ZipFile(file_name, 'r')\n",
    "    zipref.extractall('Data')\n",
    "    zipref.close()\n",
    "    df_2010 = pd.read_csv('Data\\\\CollegeScorecard_Raw_Data\\\\MERGED2010_11_PP.csv')"
   ]
  },
  {
   "cell_type": "code",
   "execution_count": 5,
   "metadata": {
    "collapsed": false
   },
   "outputs": [
    {
     "data": {
      "text/html": [
       "<div>\n",
       "<table border=\"1\" class=\"dataframe\">\n",
       "  <thead>\n",
       "    <tr style=\"text-align: right;\">\n",
       "      <th></th>\n",
       "      <th>UNITID</th>\n",
       "      <th>OPEID</th>\n",
       "      <th>OPEID6</th>\n",
       "      <th>INSTNM</th>\n",
       "      <th>CITY</th>\n",
       "      <th>STABBR</th>\n",
       "      <th>ZIP</th>\n",
       "      <th>ACCREDAGENCY</th>\n",
       "      <th>INSTURL</th>\n",
       "      <th>NPCURL</th>\n",
       "      <th>...</th>\n",
       "      <th>D100_L4</th>\n",
       "      <th>TRANS_4</th>\n",
       "      <th>DTRANS_4</th>\n",
       "      <th>TRANS_L4</th>\n",
       "      <th>DTRANS_L4</th>\n",
       "      <th>ICLEVEL</th>\n",
       "      <th>UGDS_MEN</th>\n",
       "      <th>UGDS_WOMEN</th>\n",
       "      <th>CDR3_DENOM</th>\n",
       "      <th>CDR2_DENOM</th>\n",
       "    </tr>\n",
       "  </thead>\n",
       "  <tbody>\n",
       "    <tr>\n",
       "      <th>0</th>\n",
       "      <td>100654</td>\n",
       "      <td>100200</td>\n",
       "      <td>1002</td>\n",
       "      <td>Alabama A &amp; M University</td>\n",
       "      <td>Normal</td>\n",
       "      <td>AL</td>\n",
       "      <td>35762</td>\n",
       "      <td>NaN</td>\n",
       "      <td>NaN</td>\n",
       "      <td>NaN</td>\n",
       "      <td>...</td>\n",
       "      <td>NaN</td>\n",
       "      <td>0.000000</td>\n",
       "      <td>1198.0</td>\n",
       "      <td>NaN</td>\n",
       "      <td>NaN</td>\n",
       "      <td>1</td>\n",
       "      <td>0.4771</td>\n",
       "      <td>0.5229</td>\n",
       "      <td>NaN</td>\n",
       "      <td>1515.0</td>\n",
       "    </tr>\n",
       "    <tr>\n",
       "      <th>1</th>\n",
       "      <td>100663</td>\n",
       "      <td>105200</td>\n",
       "      <td>1052</td>\n",
       "      <td>University of Alabama at Birmingham</td>\n",
       "      <td>Birmingham</td>\n",
       "      <td>AL</td>\n",
       "      <td>35294-0110</td>\n",
       "      <td>NaN</td>\n",
       "      <td>NaN</td>\n",
       "      <td>NaN</td>\n",
       "      <td>...</td>\n",
       "      <td>NaN</td>\n",
       "      <td>0.291016</td>\n",
       "      <td>1536.0</td>\n",
       "      <td>NaN</td>\n",
       "      <td>NaN</td>\n",
       "      <td>1</td>\n",
       "      <td>0.4170</td>\n",
       "      <td>0.5830</td>\n",
       "      <td>NaN</td>\n",
       "      <td>2842.0</td>\n",
       "    </tr>\n",
       "    <tr>\n",
       "      <th>2</th>\n",
       "      <td>100690</td>\n",
       "      <td>2503400</td>\n",
       "      <td>25034</td>\n",
       "      <td>Amridge University</td>\n",
       "      <td>Montgomery</td>\n",
       "      <td>AL</td>\n",
       "      <td>36117-3553</td>\n",
       "      <td>NaN</td>\n",
       "      <td>NaN</td>\n",
       "      <td>NaN</td>\n",
       "      <td>...</td>\n",
       "      <td>NaN</td>\n",
       "      <td>0.000000</td>\n",
       "      <td>13.0</td>\n",
       "      <td>NaN</td>\n",
       "      <td>NaN</td>\n",
       "      <td>1</td>\n",
       "      <td>0.4649</td>\n",
       "      <td>0.5351</td>\n",
       "      <td>NaN</td>\n",
       "      <td>316.0</td>\n",
       "    </tr>\n",
       "    <tr>\n",
       "      <th>3</th>\n",
       "      <td>100706</td>\n",
       "      <td>105500</td>\n",
       "      <td>1055</td>\n",
       "      <td>University of Alabama in Huntsville</td>\n",
       "      <td>Huntsville</td>\n",
       "      <td>AL</td>\n",
       "      <td>35899</td>\n",
       "      <td>NaN</td>\n",
       "      <td>NaN</td>\n",
       "      <td>NaN</td>\n",
       "      <td>...</td>\n",
       "      <td>NaN</td>\n",
       "      <td>0.336907</td>\n",
       "      <td>653.0</td>\n",
       "      <td>NaN</td>\n",
       "      <td>NaN</td>\n",
       "      <td>1</td>\n",
       "      <td>0.5297</td>\n",
       "      <td>0.4703</td>\n",
       "      <td>NaN</td>\n",
       "      <td>1085.0</td>\n",
       "    </tr>\n",
       "    <tr>\n",
       "      <th>4</th>\n",
       "      <td>100724</td>\n",
       "      <td>100500</td>\n",
       "      <td>1005</td>\n",
       "      <td>Alabama State University</td>\n",
       "      <td>Montgomery</td>\n",
       "      <td>AL</td>\n",
       "      <td>36104-0271</td>\n",
       "      <td>NaN</td>\n",
       "      <td>NaN</td>\n",
       "      <td>NaN</td>\n",
       "      <td>...</td>\n",
       "      <td>NaN</td>\n",
       "      <td>0.000000</td>\n",
       "      <td>1138.0</td>\n",
       "      <td>NaN</td>\n",
       "      <td>NaN</td>\n",
       "      <td>1</td>\n",
       "      <td>0.4097</td>\n",
       "      <td>0.5903</td>\n",
       "      <td>NaN</td>\n",
       "      <td>2054.0</td>\n",
       "    </tr>\n",
       "  </tbody>\n",
       "</table>\n",
       "<p>5 rows × 1743 columns</p>\n",
       "</div>"
      ],
      "text/plain": [
       "   UNITID    OPEID  OPEID6                               INSTNM        CITY  \\\n",
       "0  100654   100200    1002             Alabama A & M University      Normal   \n",
       "1  100663   105200    1052  University of Alabama at Birmingham  Birmingham   \n",
       "2  100690  2503400   25034                   Amridge University  Montgomery   \n",
       "3  100706   105500    1055  University of Alabama in Huntsville  Huntsville   \n",
       "4  100724   100500    1005             Alabama State University  Montgomery   \n",
       "\n",
       "  STABBR         ZIP  ACCREDAGENCY  INSTURL  NPCURL     ...      D100_L4  \\\n",
       "0     AL       35762           NaN      NaN     NaN     ...          NaN   \n",
       "1     AL  35294-0110           NaN      NaN     NaN     ...          NaN   \n",
       "2     AL  36117-3553           NaN      NaN     NaN     ...          NaN   \n",
       "3     AL       35899           NaN      NaN     NaN     ...          NaN   \n",
       "4     AL  36104-0271           NaN      NaN     NaN     ...          NaN   \n",
       "\n",
       "    TRANS_4  DTRANS_4  TRANS_L4  DTRANS_L4  ICLEVEL  UGDS_MEN  UGDS_WOMEN  \\\n",
       "0  0.000000    1198.0       NaN        NaN        1    0.4771      0.5229   \n",
       "1  0.291016    1536.0       NaN        NaN        1    0.4170      0.5830   \n",
       "2  0.000000      13.0       NaN        NaN        1    0.4649      0.5351   \n",
       "3  0.336907     653.0       NaN        NaN        1    0.5297      0.4703   \n",
       "4  0.000000    1138.0       NaN        NaN        1    0.4097      0.5903   \n",
       "\n",
       "   CDR3_DENOM  CDR2_DENOM  \n",
       "0         NaN      1515.0  \n",
       "1         NaN      2842.0  \n",
       "2         NaN       316.0  \n",
       "3         NaN      1085.0  \n",
       "4         NaN      2054.0  \n",
       "\n",
       "[5 rows x 1743 columns]"
      ]
     },
     "execution_count": 5,
     "metadata": {},
     "output_type": "execute_result"
    }
   ],
   "source": [
    "df_2010.head()"
   ]
  },
  {
   "cell_type": "markdown",
   "metadata": {},
   "source": [
    "# What to classify: \n",
    "\n",
    "Institution Type by Debt and wages? \n",
    "\n",
    "\n",
    "## Control \n",
    "\n",
    "1: Public\n",
    "\n",
    "2: Private Non-Profit\n",
    "\n",
    "3: Private For-Profit\n",
    "\n",
    "\n",
    "\n",
    "## REGION \n",
    "0\tU.S. Service Schools\n",
    "\n",
    "1\tNew England (CT, ME, MA, NH, RI, VT)\n",
    "\n",
    "2\tMid East (DE, DC, MD, NJ, NY, PA)\n",
    "\n",
    "3\tGreat Lakes (IL, IN, MI, OH, WI)\n",
    "\n",
    "4\tPlains (IA, KS, MN, MO, NE, ND, SD)\n",
    "\n",
    "5\tSoutheast (AL, AR, FL, GA, KY, LA, MS, NC, SC, TN, VA, WV)\n",
    "\n",
    "6\tSouthwest (AZ, NM, OK, TX)\n",
    "\n",
    "7\tRocky Mountains (CO, ID, MT, UT, WY)\n",
    "\n",
    "8\tFar West (AK, CA, HI, NV, OR, WA)\n",
    "\n",
    "9\tOutlying Areas (AS, FM, GU, MH, MP, PR, PW, VI)\n",
    "\n",
    "\n",
    "## Limit to 4 year universities: ICLEVEL = 1\n",
    "\n",
    "## Debt variables: \n",
    "\n",
    "Median debt for grads: GRAD_DEBT_MDN\n",
    "\n",
    "Median debt for those who withdraw: WDRAW_DEBT_MDN\n",
    "\n",
    "Median debt by monthly payment (10 year plan): GRAD_DEBT_MDN10YR\n",
    "\n",
    "Median debt by fam income\n",
    "\n",
    "Low (0-30000): LO_INC_DEBT_MDN\n",
    "\n",
    "Med (30001-75,000): MD_INC_DEBT_MDN\n",
    "\n",
    "High (>75,000): HI_INC_DEBT_MDN\n",
    "\n",
    "## Mean & mean earnings of working graduates 6 years after entry\n",
    "\n",
    "MN_EARN_WNE_P6\n",
    "\n",
    "MD_EARN_WNE_P6\n",
    "\n",
    "## Three year repayment rate: \n",
    "\n",
    "COMPL_RPY_3YR_RT_SUPP (students who complete)\n",
    "\n",
    "NONCOM_RPY_3YR_RT_SUPP (sudents who didn't)\n",
    "\n",
    "## Cohort Default Rate (2 & 3 years): \n",
    "CDR2\n",
    "\n",
    "CDR3\n",
    "\n",
    "## Share of students w/ any loan\n",
    "LOAN_EVER"
   ]
  },
  {
   "cell_type": "code",
   "execution_count": 6,
   "metadata": {
    "collapsed": false
   },
   "outputs": [],
   "source": [
    "df_4yr_2010 = df_2010[df_2010.ICLEVEL == 1]"
   ]
  },
  {
   "cell_type": "code",
   "execution_count": 7,
   "metadata": {
    "collapsed": false
   },
   "outputs": [],
   "source": [
    "variables = ['CONTROL', 'REGION', 'GRAD_DEBT_MDN', 'WDRAW_DEBT_MDN', 'GRAD_DEBT_MDN10YR', 'MN_EARN_WNE_P7', 'COMPL_RPY_3YR_RT_SUPP', \n",
    "            'NONCOM_RPY_3YR_RT_SUPP']"
   ]
  },
  {
   "cell_type": "code",
   "execution_count": 8,
   "metadata": {
    "collapsed": false
   },
   "outputs": [],
   "source": [
    "reduced = df_4yr_2010[variables]"
   ]
  },
  {
   "cell_type": "code",
   "execution_count": 156,
   "metadata": {
    "collapsed": false
   },
   "outputs": [
    {
     "name": "stderr",
     "output_type": "stream",
     "text": [
      "C:\\Users\\shibbie\\Anaconda_2\\lib\\site-packages\\ipykernel\\__main__.py:1: FutureWarning: convert_objects is deprecated.  Use the data-type specific converters pd.to_datetime, pd.to_timedelta and pd.to_numeric.\n",
      "  if __name__ == '__main__':\n"
     ]
    }
   ],
   "source": [
    "reduced = reduced.convert_objects(convert_numeric = 'coerce')\n",
    "reduced.dropna(inplace = True)"
   ]
  },
  {
   "cell_type": "code",
   "execution_count": 157,
   "metadata": {
    "collapsed": false
   },
   "outputs": [
    {
     "data": {
      "text/plain": [
       "(2249, 8)"
      ]
     },
     "execution_count": 157,
     "metadata": {},
     "output_type": "execute_result"
    }
   ],
   "source": [
    "reduced.shape"
   ]
  },
  {
   "cell_type": "markdown",
   "metadata": {},
   "source": [
    "# Predict whether Public, Private Non-Profit or Private For-Profit based on Median Debt, Median Earnings (7 Year Mark), Repayment Rate at 3 Years of Students who completed degrees, Repayment Rate at 3 Years of Students who did not complete degrees"
   ]
  },
  {
   "cell_type": "code",
   "execution_count": 171,
   "metadata": {
    "collapsed": false
   },
   "outputs": [],
   "source": [
    "def plot_confusion_matrix(cm, classes,\n",
    "                          title='Confusion matrix',\n",
    "                          cmap=plt.cm.Blues):\n",
    "    \"\"\"\n",
    "    This function prints and plots the confusion matrix.\n",
    "    \"\"\"\n",
    "    \n",
    "    # creates shading based on percentage true\n",
    "    percentage_map = np.zeros((len(classes), len(classes)))\n",
    "    percentages = cm.diagonal() / np.apply_along_axis(sum, axis = 1, arr = conf_m)\n",
    "    np.fill_diagonal(percentage_map, percentages)\n",
    "    plt.imshow(cm, interpolation='nearest', cmap=cmap)\n",
    "\n",
    "    plt.title(title, fontsize = 15)\n",
    "    tick_marks = np.arange(len(classes))\n",
    "    plt.xticks(tick_marks, classes, rotation=30, fontsize = 12)\n",
    "    plt.yticks(tick_marks, classes, fontsize = 12)\n",
    "    np.set_printoptions(suppress=True)\n",
    "    sns.heatmap(percentage_map, annot = cm, fmt = 'd', cbar = True, xticklabels=labels, yticklabels=labels)\n",
    "    \n",
    "    plt.tight_layout()\n",
    "    plt.ylabel('True label', fontsize = 15)\n",
    "    plt.xlabel('Predicted label', fontsize = 15)"
   ]
  },
  {
   "cell_type": "code",
   "execution_count": 179,
   "metadata": {
    "collapsed": false
   },
   "outputs": [
    {
     "data": {
      "text/html": [
       "<div>\n",
       "<table border=\"1\" class=\"dataframe\">\n",
       "  <thead>\n",
       "    <tr style=\"text-align: right;\">\n",
       "      <th></th>\n",
       "      <th>REGION</th>\n",
       "      <th>GRAD_DEBT_MDN</th>\n",
       "      <th>WDRAW_DEBT_MDN</th>\n",
       "      <th>GRAD_DEBT_MDN10YR</th>\n",
       "      <th>MN_EARN_WNE_P7</th>\n",
       "      <th>COMPL_RPY_3YR_RT_SUPP</th>\n",
       "      <th>NONCOM_RPY_3YR_RT_SUPP</th>\n",
       "    </tr>\n",
       "    <tr>\n",
       "      <th>CONTROL</th>\n",
       "      <th></th>\n",
       "      <th></th>\n",
       "      <th></th>\n",
       "      <th></th>\n",
       "      <th></th>\n",
       "      <th></th>\n",
       "      <th></th>\n",
       "    </tr>\n",
       "  </thead>\n",
       "  <tbody>\n",
       "    <tr>\n",
       "      <th>1</th>\n",
       "      <td>4.356792</td>\n",
       "      <td>17273.094108</td>\n",
       "      <td>6593.815057</td>\n",
       "      <td>177.272217</td>\n",
       "      <td>38966.284779</td>\n",
       "      <td>0.812856</td>\n",
       "      <td>0.568931</td>\n",
       "    </tr>\n",
       "    <tr>\n",
       "      <th>2</th>\n",
       "      <td>4.035088</td>\n",
       "      <td>20468.720330</td>\n",
       "      <td>7928.806502</td>\n",
       "      <td>210.068643</td>\n",
       "      <td>40101.031992</td>\n",
       "      <td>0.810981</td>\n",
       "      <td>0.602654</td>\n",
       "    </tr>\n",
       "    <tr>\n",
       "      <th>3</th>\n",
       "      <td>4.884903</td>\n",
       "      <td>20543.167414</td>\n",
       "      <td>6198.109118</td>\n",
       "      <td>210.832687</td>\n",
       "      <td>37527.204783</td>\n",
       "      <td>0.627704</td>\n",
       "      <td>0.343428</td>\n",
       "    </tr>\n",
       "  </tbody>\n",
       "</table>\n",
       "</div>"
      ],
      "text/plain": [
       "           REGION  GRAD_DEBT_MDN  WDRAW_DEBT_MDN  GRAD_DEBT_MDN10YR  \\\n",
       "CONTROL                                                               \n",
       "1        4.356792   17273.094108     6593.815057         177.272217   \n",
       "2        4.035088   20468.720330     7928.806502         210.068643   \n",
       "3        4.884903   20543.167414     6198.109118         210.832687   \n",
       "\n",
       "         MN_EARN_WNE_P7  COMPL_RPY_3YR_RT_SUPP  NONCOM_RPY_3YR_RT_SUPP  \n",
       "CONTROL                                                                 \n",
       "1          38966.284779               0.812856                0.568931  \n",
       "2          40101.031992               0.810981                0.602654  \n",
       "3          37527.204783               0.627704                0.343428  "
      ]
     },
     "execution_count": 179,
     "metadata": {},
     "output_type": "execute_result"
    }
   ],
   "source": [
    "reduced.groupby('CONTROL').mean()"
   ]
  },
  {
   "cell_type": "code",
   "execution_count": 217,
   "metadata": {
    "collapsed": false
   },
   "outputs": [
    {
     "data": {
      "text/plain": [
       "CONTROL\n",
       "1    0.271676\n",
       "2    0.430858\n",
       "3    0.297466\n",
       "Name: REGION, dtype: float64"
      ]
     },
     "execution_count": 217,
     "metadata": {},
     "output_type": "execute_result"
    }
   ],
   "source": [
    "# percentages of each type. 1 = Public, 2 = Private Non-Profit, 3 = Private For-Profit\n",
    "reduced.groupby('CONTROL').REGION.count() / len(reduced)"
   ]
  },
  {
   "cell_type": "code",
   "execution_count": 168,
   "metadata": {
    "collapsed": false
   },
   "outputs": [],
   "source": [
    "X = reduced[reduced.columns[2:]]\n",
    "Y = reduced[reduced.columns[0]]"
   ]
  },
  {
   "cell_type": "code",
   "execution_count": 241,
   "metadata": {
    "collapsed": true
   },
   "outputs": [],
   "source": [
    "labels = ['Public', 'Private, Non-Profit', 'Private, For-Profit'] "
   ]
  },
  {
   "cell_type": "code",
   "execution_count": 176,
   "metadata": {
    "collapsed": false
   },
   "outputs": [
    {
     "name": "stdout",
     "output_type": "stream",
     "text": [
      "----------SVM Linear----------\n",
      "Insample misclassified = 48.5523385301%\n",
      "For training size of 449\n",
      "899 misclassified data out of 1800 ( 49.94 %)\n",
      "Insample misclassified = 47.0522803115%\n",
      "For training size of 899\n",
      "692 misclassified data out of 1350 ( 51.26 %)\n",
      "Insample misclassified = 46.3306152706%\n",
      "For training size of 1349\n",
      "459 misclassified data out of 900 ( 51.0 %)\n",
      "Insample misclassified = 48.3046136743%\n",
      "For training size of 1799\n",
      "227 misclassified data out of 450 ( 50.44 %)\n"
     ]
    },
    {
     "data": {
      "image/png": "[encoded data removed]",
      "text/plain": [
       "<matplotlib.figure.Figure at 0x4ab67cf8>"
      ]
     },
     "metadata": {},
     "output_type": "display_data"
    },
    {
     "data": {
      "image/png": "[encoded data removed]",
      "text/plain": [
       "<matplotlib.figure.Figure at 0x16796588>"
      ]
     },
     "metadata": {},
     "output_type": "display_data"
    },
    {
     "data": {
      "image/png": "[encoded data removed]",
      "text/plain": [
       "<matplotlib.figure.Figure at 0x4ab66588>"
      ]
     },
     "metadata": {},
     "output_type": "display_data"
    },
    {
     "data": {
      "image/png": "[encoded data removed]",
      "text/plain": [
       "<matplotlib.figure.Figure at 0x5311b198>"
      ]
     },
     "metadata": {},
     "output_type": "display_data"
    }
   ],
   "source": [
    "print \"----------SVM Linear----------\"\n",
    "\n",
    "for i, n in enumerate([0.8, 0.6, 0.4, 0.2]):\n",
    "    \n",
    "    X_train, X_test, Y_train, Y_test = train_test_split(X, Y, train_size = 1 - n, random_state=3)\n",
    "    ts, = Y_test.shape\n",
    "    \n",
    "    svm_linear = svm.SVC(kernel='linear')\n",
    "    svm_linear.fit(X_train, Y_train)\n",
    "    ypred_svm_linear = svm_linear.predict(X_test)\n",
    "    e_svm_linear = sum(ypred_svm_linear != Y_test)\n",
    "    insample_incorrect = sum(Y_train != svm_linear.predict(X_train)) / Y_train.shape[0] * 100\n",
    "    print 'Insample misclassified = {0}%'.format(insample_incorrect)\n",
    "\n",
    "    \n",
    "    print 'For training size of {0}'.format(len(X_train))\n",
    "    print e_svm_linear, \"misclassified data out of\", ts, \"(\", round(e_svm_linear/ts, 4) * 100,\"%)\"\n",
    "    \n",
    "    conf_m = confusion_matrix(Y_test, ypred_svm_linear)\n",
    "    fig = pl.figure(figsize = (10, 10))\n",
    "    plot_confusion_matrix(conf_m, classes = labels, \n",
    "                          title = 'Confusion Matrix - SVM Linear with Train Size {0}'.format(len(X_train)))\n",
    "    pl.savefig('confusion_matrix_SVM_Linear_{0}.jpg'.format(str(len(X_train))))"
   ]
  },
  {
   "cell_type": "markdown",
   "metadata": {},
   "source": [
    "# SVM - predict school type based on share of students taking loan and median debt for three income brackets"
   ]
  },
  {
   "cell_type": "code",
   "execution_count": 218,
   "metadata": {
    "collapsed": true
   },
   "outputs": [],
   "source": [
    "test_variables = ['CONTROL', 'LO_INC_DEBT_MDN', 'HI_INC_DEBT_MDN', 'MD_INC_DEBT_MDN', 'LOAN_EVER']"
   ]
  },
  {
   "cell_type": "code",
   "execution_count": 219,
   "metadata": {
    "collapsed": true
   },
   "outputs": [],
   "source": [
    "test2 = df_4yr_2010[test_variables]"
   ]
  },
  {
   "cell_type": "code",
   "execution_count": 234,
   "metadata": {
    "collapsed": false
   },
   "outputs": [
    {
     "name": "stderr",
     "output_type": "stream",
     "text": [
      "C:\\Users\\shibbie\\Anaconda_2\\lib\\site-packages\\ipykernel\\__main__.py:1: FutureWarning: convert_objects is deprecated.  Use the data-type specific converters pd.to_datetime, pd.to_timedelta and pd.to_numeric.\n",
      "  if __name__ == '__main__':\n"
     ]
    }
   ],
   "source": [
    "test2 = test2.convert_objects(convert_numeric = 'coerce')\n",
    "test2.dropna(inplace = True)"
   ]
  },
  {
   "cell_type": "code",
   "execution_count": 237,
   "metadata": {
    "collapsed": false
   },
   "outputs": [
    {
     "data": {
      "text/html": [
       "<div>\n",
       "<table border=\"1\" class=\"dataframe\">\n",
       "  <thead>\n",
       "    <tr style=\"text-align: right;\">\n",
       "      <th></th>\n",
       "      <th>CONTROL</th>\n",
       "      <th>LO_INC_DEBT_MDN</th>\n",
       "      <th>HI_INC_DEBT_MDN</th>\n",
       "      <th>MD_INC_DEBT_MDN</th>\n",
       "      <th>LOAN_EVER</th>\n",
       "    </tr>\n",
       "  </thead>\n",
       "  <tbody>\n",
       "    <tr>\n",
       "      <th>count</th>\n",
       "      <td>2433.000000</td>\n",
       "      <td>2433.000000</td>\n",
       "      <td>2433.000000</td>\n",
       "      <td>2433.000000</td>\n",
       "      <td>2433.000000</td>\n",
       "    </tr>\n",
       "    <tr>\n",
       "      <th>mean</th>\n",
       "      <td>2.007809</td>\n",
       "      <td>10835.677148</td>\n",
       "      <td>11380.814838</td>\n",
       "      <td>11932.576860</td>\n",
       "      <td>0.894257</td>\n",
       "    </tr>\n",
       "    <tr>\n",
       "      <th>std</th>\n",
       "      <td>0.741412</td>\n",
       "      <td>4350.586423</td>\n",
       "      <td>3892.095864</td>\n",
       "      <td>4359.719014</td>\n",
       "      <td>0.108441</td>\n",
       "    </tr>\n",
       "    <tr>\n",
       "      <th>min</th>\n",
       "      <td>1.000000</td>\n",
       "      <td>1191.000000</td>\n",
       "      <td>2625.000000</td>\n",
       "      <td>2625.000000</td>\n",
       "      <td>0.139811</td>\n",
       "    </tr>\n",
       "    <tr>\n",
       "      <th>25%</th>\n",
       "      <td>1.000000</td>\n",
       "      <td>7241.000000</td>\n",
       "      <td>9000.000000</td>\n",
       "      <td>9206.000000</td>\n",
       "      <td>0.879401</td>\n",
       "    </tr>\n",
       "    <tr>\n",
       "      <th>50%</th>\n",
       "      <td>2.000000</td>\n",
       "      <td>10370.000000</td>\n",
       "      <td>11000.000000</td>\n",
       "      <td>11751.000000</td>\n",
       "      <td>0.928536</td>\n",
       "    </tr>\n",
       "    <tr>\n",
       "      <th>75%</th>\n",
       "      <td>3.000000</td>\n",
       "      <td>13750.000000</td>\n",
       "      <td>14077.000000</td>\n",
       "      <td>15000.000000</td>\n",
       "      <td>0.953063</td>\n",
       "    </tr>\n",
       "    <tr>\n",
       "      <th>max</th>\n",
       "      <td>3.000000</td>\n",
       "      <td>30124.000000</td>\n",
       "      <td>24031.000000</td>\n",
       "      <td>34012.500000</td>\n",
       "      <td>0.992834</td>\n",
       "    </tr>\n",
       "  </tbody>\n",
       "</table>\n",
       "</div>"
      ],
      "text/plain": [
       "           CONTROL  LO_INC_DEBT_MDN  HI_INC_DEBT_MDN  MD_INC_DEBT_MDN  \\\n",
       "count  2433.000000      2433.000000      2433.000000      2433.000000   \n",
       "mean      2.007809     10835.677148     11380.814838     11932.576860   \n",
       "std       0.741412      4350.586423      3892.095864      4359.719014   \n",
       "min       1.000000      1191.000000      2625.000000      2625.000000   \n",
       "25%       1.000000      7241.000000      9000.000000      9206.000000   \n",
       "50%       2.000000     10370.000000     11000.000000     11751.000000   \n",
       "75%       3.000000     13750.000000     14077.000000     15000.000000   \n",
       "max       3.000000     30124.000000     24031.000000     34012.500000   \n",
       "\n",
       "         LOAN_EVER  \n",
       "count  2433.000000  \n",
       "mean      0.894257  \n",
       "std       0.108441  \n",
       "min       0.139811  \n",
       "25%       0.879401  \n",
       "50%       0.928536  \n",
       "75%       0.953063  \n",
       "max       0.992834  "
      ]
     },
     "execution_count": 237,
     "metadata": {},
     "output_type": "execute_result"
    }
   ],
   "source": [
    "test2.describe()"
   ]
  },
  {
   "cell_type": "code",
   "execution_count": 238,
   "metadata": {
    "collapsed": false
   },
   "outputs": [
    {
     "data": {
      "text/html": [
       "<div>\n",
       "<table border=\"1\" class=\"dataframe\">\n",
       "  <thead>\n",
       "    <tr style=\"text-align: right;\">\n",
       "      <th></th>\n",
       "      <th>LO_INC_DEBT_MDN</th>\n",
       "      <th>HI_INC_DEBT_MDN</th>\n",
       "      <th>MD_INC_DEBT_MDN</th>\n",
       "      <th>LOAN_EVER</th>\n",
       "    </tr>\n",
       "    <tr>\n",
       "      <th>CONTROL</th>\n",
       "      <th></th>\n",
       "      <th></th>\n",
       "      <th></th>\n",
       "      <th></th>\n",
       "    </tr>\n",
       "  </thead>\n",
       "  <tbody>\n",
       "    <tr>\n",
       "      <th>1</th>\n",
       "      <td>10418.746586</td>\n",
       "      <td>10019.700303</td>\n",
       "      <td>10857.918058</td>\n",
       "      <td>0.845874</td>\n",
       "    </tr>\n",
       "    <tr>\n",
       "      <th>2</th>\n",
       "      <td>13123.678832</td>\n",
       "      <td>13254.053832</td>\n",
       "      <td>14254.295164</td>\n",
       "      <td>0.922188</td>\n",
       "    </tr>\n",
       "    <tr>\n",
       "      <th>3</th>\n",
       "      <td>7542.325221</td>\n",
       "      <td>9675.659292</td>\n",
       "      <td>9224.017699</td>\n",
       "      <td>0.896134</td>\n",
       "    </tr>\n",
       "  </tbody>\n",
       "</table>\n",
       "</div>"
      ],
      "text/plain": [
       "         LO_INC_DEBT_MDN  HI_INC_DEBT_MDN  MD_INC_DEBT_MDN  LOAN_EVER\n",
       "CONTROL                                                              \n",
       "1           10418.746586     10019.700303     10857.918058   0.845874\n",
       "2           13123.678832     13254.053832     14254.295164   0.922188\n",
       "3            7542.325221      9675.659292      9224.017699   0.896134"
      ]
     },
     "execution_count": 238,
     "metadata": {},
     "output_type": "execute_result"
    }
   ],
   "source": [
    "test2.groupby('CONTROL').mean()"
   ]
  },
  {
   "cell_type": "code",
   "execution_count": 243,
   "metadata": {
    "collapsed": false
   },
   "outputs": [
    {
     "data": {
      "text/plain": [
       "CONTROL\n",
       "1    0.270859\n",
       "2    0.450473\n",
       "3    0.278668\n",
       "Name: LOAN_EVER, dtype: float64"
      ]
     },
     "execution_count": 243,
     "metadata": {},
     "output_type": "execute_result"
    }
   ],
   "source": [
    "# percentages of each type. 1 = Public, 2 = Private Non-Profit, 3 = Private For-Profit\n",
    "test2.groupby('CONTROL')['LOAN_EVER'].count() / len(test2)"
   ]
  },
  {
   "cell_type": "code",
   "execution_count": 244,
   "metadata": {
    "collapsed": true
   },
   "outputs": [],
   "source": [
    "X = test2[test2.columns[1:]]\n",
    "Y = test2[test2.columns[0]]"
   ]
  },
  {
   "cell_type": "code",
   "execution_count": 245,
   "metadata": {
    "collapsed": false
   },
   "outputs": [
    {
     "name": "stdout",
     "output_type": "stream",
     "text": [
      "Insample misclassified = 40.281855549%\n",
      "For training size of 1703\n",
      "288 misclassified data out of 730 ( 39.45 %)\n"
     ]
    },
    {
     "data": {
      "image/png": "[encoded data removed]",
      "text/plain": [
       "<matplotlib.figure.Figure at 0x118dcb38>"
      ]
     },
     "metadata": {},
     "output_type": "display_data"
    }
   ],
   "source": [
    "X_train, X_test, Y_train, Y_test = train_test_split(X, Y, train_size = .7, random_state=3)\n",
    "ts, = Y_test.shape\n",
    "\n",
    "svm_linear = svm.SVC(kernel='linear')\n",
    "svm_linear.fit(X_train, Y_train)\n",
    "ypred_svm_linear = svm_linear.predict(X_test)\n",
    "e_svm_linear = sum(ypred_svm_linear != Y_test)\n",
    "insample_incorrect = sum(Y_train != svm_linear.predict(X_train)) / Y_train.shape[0] * 100\n",
    "print 'Insample misclassified = {0}%'.format(insample_incorrect)\n",
    "\n",
    "\n",
    "print 'For training size of {0}'.format(len(X_train))\n",
    "print e_svm_linear, \"misclassified data out of\", ts, \"(\", round(e_svm_linear/ts, 4) * 100,\"%)\"\n",
    "\n",
    "conf_m = confusion_matrix(Y_test, ypred_svm_linear)\n",
    "fig = pl.figure(figsize = (10, 10))\n",
    "plot_confusion_matrix(conf_m, classes = labels, \n",
    "                      title = 'Confusion Matrix - SVM Linear with Train Size {0}'.format(len(X_train)))\n",
    "pl.savefig('confusion_matrix_SVM_Linear_{0}.jpg'.format(str(len(X_train))))"
   ]
  },
  {
   "cell_type": "code",
   "execution_count": null,
   "metadata": {
    "collapsed": true
   },
   "outputs": [],
   "source": []
  }
 ],
 "metadata": {
  "kernelspec": {
   "display_name": "Python 2",
   "language": "python",
   "name": "python2"
  },
  "language_info": {
   "codemirror_mode": {
    "name": "ipython",
    "version": 2
   },
   "file_extension": ".py",
   "mimetype": "text/x-python",
   "name": "python",
   "nbconvert_exporter": "python",
   "pygments_lexer": "ipython2",
   "version": "2.7.13"
  }
 },
 "nbformat": 4,
 "nbformat_minor": 2
}
