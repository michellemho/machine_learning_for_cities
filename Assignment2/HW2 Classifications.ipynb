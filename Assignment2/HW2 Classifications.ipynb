{
 "cells": [
  {
   "cell_type": "code",
   "execution_count": 2,
   "metadata": {
    "collapsed": false
   },
   "outputs": [
    {
     "name": "stdout",
     "output_type": "stream",
     "text": [
      "Populating the interactive namespace from numpy and matplotlib\n"
     ]
    }
   ],
   "source": [
    "import csv\n",
    "import matplotlib.pyplot as plt\n",
    "import numpy as np\n",
    "import pandas as pd\n",
    "from sklearn import naive_bayes\n",
    "from sklearn import svm\n",
    "from sklearn.cross_validation import train_test_split\n",
    "from sklearn import cluster\n",
    "from sas7bdat import SAS7BDAT\n",
    "%pylab inline"
   ]
  },
  {
   "cell_type": "code",
   "execution_count": 188,
   "metadata": {
    "collapsed": true
   },
   "outputs": [],
   "source": [
    "with SAS7BDAT('chs2014_public.sas7bdat') as f:\n",
    "    df = f.to_data_frame()"
   ]
  },
  {
   "cell_type": "code",
   "execution_count": 249,
   "metadata": {
    "collapsed": false
   },
   "outputs": [
    {
     "data": {
      "text/plain": [
       "(8562, 188)"
      ]
     },
     "execution_count": 249,
     "metadata": {},
     "output_type": "execute_result"
    }
   ],
   "source": [
    "df.shape"
   ]
  },
  {
   "cell_type": "code",
   "execution_count": 250,
   "metadata": {
    "collapsed": true
   },
   "outputs": [],
   "source": [
    "y = ['sickadvice14']\n",
    "x = ['education',\n",
    "     'emp3',\n",
    "     'imputed_povertygroup',\n",
    "     'insuredgateway14',\n",
    "     'maritalstatus14',\n",
    "     'bthregion2',\n",
    "     'sexualid',\n",
    "     #'nutrition1',\n",
    "     #'nsodaperday14',\n",
    "     'pcptalkeathabit14',\n",
    "     'activelevel14',\n",
    "     'athomelanguage14',\n",
    "    ]\n",
    "# continuous_x = ['nutrition1','nsodaperday14']\n",
    "df2 = df.ix[:, y+x]\n",
    "#Remove observations where independent variables are NAN.\n",
    "df2 = df2.dropna()\n",
    "#dummify categorical variables\n",
    "df2 = pd.get_dummies(df2,columns=x)"
   ]
  },
  {
   "cell_type": "code",
   "execution_count": 251,
   "metadata": {
    "collapsed": false,
    "scrolled": true
   },
   "outputs": [
    {
     "name": "stdout",
     "output_type": "stream",
     "text": [
      "Shape of Data:  (7657, 55)\n",
      "----------Naive Bayes----------\n",
      "[830] misclassified data out of 2298 ( 36.1183637946 %)\n"
     ]
    },
    {
     "name": "stderr",
     "output_type": "stream",
     "text": [
      "/Users/michelleho/anaconda/lib/python2.7/site-packages/sklearn/utils/validation.py:449: DataConversionWarning: A column-vector y was passed when a 1d array was expected. Please change the shape of y to (n_samples, ), for example using ravel().\n",
      "  y = column_or_1d(y, warn=True)\n"
     ]
    }
   ],
   "source": [
    "print \"Shape of Data: \",df2.shape\n",
    "df_x = df2.ix[:, df2.columns != y[0]]\n",
    "df_y= df2.ix[:,y]\n",
    "X = df_x.as_matrix()\n",
    "Y = df_y.as_matrix()\n",
    "\n",
    "# --------------------\n",
    "# Normalizing data\n",
    "#b --------------------\n",
    "# Xtmax = np.amax(X,axis=0)\n",
    "# X = np.divide(X,Xtmax)\n",
    "# --------------------\n",
    "# K-fold CV\n",
    "# --------------------\n",
    "X_train, X_test, Y_train, Y_test = train_test_split(X, Y, train_size=0.7, random_state=3)\n",
    "ts = Y_test.shape[0]\n",
    "\n",
    "# --------------------\n",
    "# Naive Bayes\n",
    "# --------------------\n",
    "gnb = naive_bayes.BernoulliNB()\n",
    "gnb.fit(X_train,Y_train)\n",
    "ypred_gnb = gnb.predict(X_test)\n",
    "e_gnb = np.sum((ypred_gnb[i] != Y_test[i]) for i in range(0,ts))\n",
    "print(\"----------Naive Bayes----------\")\n",
    "print e_gnb, \"misclassified data out of\",ts,\"(\",float(e_gnb)*100/ts,\"%)\""
   ]
  },
  {
   "cell_type": "code",
   "execution_count": 243,
   "metadata": {
    "collapsed": false
   },
   "outputs": [
    {
     "name": "stdout",
     "output_type": "stream",
     "text": [
      "----------SVM Linear----------\n",
      "[724] misclassified data out of 2298 (31.51 %)\n"
     ]
    },
    {
     "name": "stderr",
     "output_type": "stream",
     "text": [
      "/Users/michelleho/anaconda/lib/python2.7/site-packages/sklearn/svm/base.py:472: DataConversionWarning: A column-vector y was passed when a 1d array was expected. Please change the shape of y to (n_samples, ), for example using ravel().\n",
      "  y_ = column_or_1d(y, warn=True)\n"
     ]
    }
   ],
   "source": [
    "# --------------------\n",
    "# SVM\n",
    "# --------------------\n",
    "svm_linear = svm.SVC(kernel='linear')\n",
    "svm_linear.fit(X_train,Y_train)\n",
    "ypred_svm_linear = svm_linear.predict(X_test)\n",
    "e_svm_linear = np.sum((ypred_svm_linear[i] != Y_test[i]) for i in range(0,ts))\n",
    "print(\"----------SVM Linear----------\")\n",
    "print e_svm_linear, \"misclassified data out of\", ts, \"({:0.2f}\".format(float(e_svm_linear)*100/ts),\"%)\""
   ]
  },
  {
   "cell_type": "code",
   "execution_count": 244,
   "metadata": {
    "collapsed": false
   },
   "outputs": [
    {
     "name": "stdout",
     "output_type": "stream",
     "text": [
      "----------SVM RBF----------\n",
      "('number of support vectors', 3487)\n",
      "[792] misclassified data out of 2298 ( 34.4647519582 %)\n"
     ]
    },
    {
     "name": "stderr",
     "output_type": "stream",
     "text": [
      "/Users/michelleho/anaconda/lib/python2.7/site-packages/sklearn/svm/base.py:472: DataConversionWarning: A column-vector y was passed when a 1d array was expected. Please change the shape of y to (n_samples, ), for example using ravel().\n",
      "  y_ = column_or_1d(y, warn=True)\n"
     ]
    }
   ],
   "source": [
    "class_weight={1:10} #give a larger importance to class\n",
    "svm_rbf = svm.SVC(kernel='rbf', gamma=500, class_weight={1:10})\n",
    "# svm_rbf = svm.SVC(kernel='rbf', gamma=500)\n",
    "svm_rbf.fit(X_train,Y_train)\n",
    "ypred_svm_rbf = svm_rbf.predict(X_test)\n",
    "e_svm_rbf = np.sum((ypred_svm_rbf[i] != Y_test[i]) for i in range(0,ts))\n",
    "print(\"----------SVM RBF----------\")\n",
    "print(\"number of support vectors\",len(svm_rbf.support_))\n",
    "print e_svm_rbf, \"misclassified data out of\", ts, \"(\",float(e_svm_rbf)*100/ts,\"%)\""
   ]
  },
  {
   "cell_type": "code",
   "execution_count": 248,
   "metadata": {
    "collapsed": false
   },
   "outputs": [
    {
     "data": {
      "image/png": "[encoded data removed]",
      "text/plain": [
       "<matplotlib.figure.Figure at 0x113797690>"
      ]
     },
     "metadata": {},
     "output_type": "display_data"
    }
   ],
   "source": [
    "plt.subplot(1,3,1)\n",
    "plt.scatter(Y_test,ypred_gnb,c=ypred_gnb)\n",
    "plt.subplot(1,3,2)\n",
    "plt.scatter(Y_test,ypred_svm_linear,c=ypred_svm_linear)\n",
    "plt.subplot(1,3,3)\n",
    "plt.scatter(Y_test,ypred_svm_rbf,c=ypred_svm_rbf)\n",
    "# svm_rbf_sv = svm_rbf.support_\n",
    "# plt.scatter(X[svm_rbf_sv,2],X[svm_rbf_sv,3],color=\"red\")\n",
    "plt.show()"
   ]
  },
  {
   "cell_type": "code",
   "execution_count": null,
   "metadata": {
    "collapsed": true
   },
   "outputs": [],
   "source": []
  }
 ],
 "metadata": {
  "kernelspec": {
   "display_name": "Python 2",
   "language": "python",
   "name": "python2"
  },
  "language_info": {
   "codemirror_mode": {
    "name": "ipython",
    "version": 2
   },
   "file_extension": ".py",
   "mimetype": "text/x-python",
   "name": "python",
   "nbconvert_exporter": "python",
   "pygments_lexer": "ipython2",
   "version": "2.7.13"
  }
 },
 "nbformat": 4,
 "nbformat_minor": 0
}
