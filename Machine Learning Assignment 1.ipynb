{
 "cells": [
  {
   "cell_type": "code",
   "execution_count": 343,
   "metadata": {
    "collapsed": false
   },
   "outputs": [
    {
     "name": "stdout",
     "output_type": "stream",
     "text": [
      "Populating the interactive namespace from numpy and matplotlib\n"
     ]
    }
   ],
   "source": [
    "import matplotlib.pyplot as plt\n",
    "import numpy as np\n",
    "from sklearn import linear_model\n",
    "import csv\n",
    "from sklearn.decomposition import PCA\n",
    "from sklearn import linear_model\n",
    "import statsmodels.api as sm\n",
    "%pylab inline\n",
    "# --------------------\n",
    "# Read in Raw Data\n",
    "# --------------------\n",
    "redata = open('manhattan-dof.csv', \"r\")\n",
    "csvReader = csv.reader(redata,delimiter=',')\n",
    "next(csvReader)\n",
    "\n",
    "X = np.array([r for r in csvReader])\n",
    "X = X.astype(np.float)\n",
    "\n",
    "# --------------------\n",
    "# Filter data: make index for neighborhood 4, GrossSqFt <= 35000 and MarketValueperSqFt > 100 for 137 variables\n",
    "# --------------------\n",
    "index = np.where((X[:,0] == 4) & (X[:,3] <= 35000) & (X[:,5] > 100 ))\n"
   ]
  },
  {
   "cell_type": "code",
   "execution_count": 397,
   "metadata": {
    "collapsed": false
   },
   "outputs": [
    {
     "name": "stdout",
     "output_type": "stream",
     "text": [
      "(137, 5)\n"
     ]
    }
   ],
   "source": [
    "# --------------------\n",
    "# select independent variables and dependent variable (MarketValueperSqFt) and standardize by dividing by maximum\n",
    "# --------------------\n",
    "concat = [0,1,2,3,4]\n",
    "t = []\n",
    "for i in concat:\n",
    "   t.append(X[index,i])\n",
    "X_one_neighborhood=np.array(t)\n",
    "X_one_neighborhood=X_one_neighborhood.reshape((-1,len(concat)))\n",
    "Xtmax_one_neighborhood = np.amax(X_one_neighborhood,axis=0)\n",
    "for i in range(0,len(concat)):\n",
    "    X_one_neighborhood[:,i]=X_one_neighborhood[:,i]/Xtmax_one_neighborhood[i]\n",
    "print X_one_neighborhood.shape\n"
   ]
  },
  {
   "cell_type": "code",
   "execution_count": 399,
   "metadata": {
    "collapsed": false
   },
   "outputs": [
    {
     "name": "stdout",
     "output_type": "stream",
     "text": [
      "(137, 1)\n"
     ]
    }
   ],
   "source": [
    "Y_one_neighborhood=np.array(X[index,5]).reshape(-1,1)\n",
    "Ytmax_one_neighborhood = np.amax(Y_one_neighborhood)\n",
    "Y_one_neighborhood = Y_one_neighborhood/Ytmax_one_neighborhood\n",
    "print Y_one_neighborhood.shape"
   ]
  },
  {
   "cell_type": "code",
   "execution_count": 346,
   "metadata": {
    "collapsed": false,
    "scrolled": true
   },
   "outputs": [
    {
     "name": "stdout",
     "output_type": "stream",
     "text": [
      "[array([[ 0.09222025, -0.10119044, -0.08611009, -0.00834582,  0.04008967]])]\n",
      "[ 0.75455177]\n",
      "R-squared:  0.0514134806316\n"
     ]
    }
   ],
   "source": [
    "liregr = linear_model.LinearRegression()\n",
    "liregr.fit(Xt, Yt)\n",
    "print [liregr.coef_]\n",
    "print liregr.intercept_\n",
    "print \"R-squared: \",1-((np.asarray(liregr.predict(Xt))-Yt)**2).sum()/((Yt-np.mean(Yt))**2).sum()"
   ]
  },
  {
   "cell_type": "code",
   "execution_count": 347,
   "metadata": {
    "collapsed": false
   },
   "outputs": [
    {
     "data": {
      "text/plain": [
       "<matplotlib.text.Text at 0x111f19750>"
      ]
     },
     "execution_count": 347,
     "metadata": {},
     "output_type": "execute_result"
    },
    {
     "data": {
      "image/png": "[encoded data removed]",
      "text/plain": [
       "<matplotlib.figure.Figure at 0x112f22c10>"
      ]
     },
     "metadata": {},
     "output_type": "display_data"
    }
   ],
   "source": [
    "plt.scatter(Yt,liregr.predict(Xt),color='red')\n",
    "plt.xlabel('Actual Y')\n",
    "plt.ylabel('Predicted Y')"
   ]
  },
  {
   "cell_type": "code",
   "execution_count": 348,
   "metadata": {
    "collapsed": false
   },
   "outputs": [
    {
     "name": "stdout",
     "output_type": "stream",
     "text": [
      "                            OLS Regression Results                            \n",
      "==============================================================================\n",
      "Dep. Variable:                      y   R-squared:                       0.051\n",
      "Model:                            OLS   Adj. R-squared:                  0.015\n",
      "Method:                 Least Squares   F-statistic:                     1.420\n",
      "Date:                Mon, 20 Feb 2017   Prob (F-statistic):              0.221\n",
      "Time:                        13:59:48   Log-Likelihood:                 135.95\n",
      "No. Observations:                 137   AIC:                            -259.9\n",
      "Df Residuals:                     131   BIC:                            -242.4\n",
      "Df Model:                           5                                         \n",
      "Covariance Type:            nonrobust                                         \n",
      "==============================================================================\n",
      "                 coef    std err          t      P>|t|      [95.0% Conf. Int.]\n",
      "------------------------------------------------------------------------------\n",
      "const          0.7546      0.009     83.319      0.000         0.737     0.772\n",
      "x1             0.0922      0.062      1.496      0.137        -0.030     0.214\n",
      "x2            -0.1012      0.089     -1.138      0.257        -0.277     0.075\n",
      "x3            -0.0861      0.065     -1.329      0.186        -0.214     0.042\n",
      "x4            -0.0083      0.068     -0.123      0.903        -0.143     0.126\n",
      "x5             0.0401      0.066      0.603      0.547        -0.091     0.172\n",
      "==============================================================================\n",
      "Omnibus:                       13.308   Durbin-Watson:                   1.772\n",
      "Prob(Omnibus):                  0.001   Jarque-Bera (JB):               15.221\n",
      "Skew:                           0.812   Prob(JB):                     0.000495\n",
      "Kurtosis:                       2.834   Cond. No.                         13.9\n",
      "==============================================================================\n",
      "\n",
      "Warnings:\n",
      "[1] Standard Errors assume that the covariance matrix of the errors is correctly specified.\n"
     ]
    }
   ],
   "source": [
    "# Also do with sm.OLS just to check!\n",
    "Xt = sm.add_constant(Xt)\n",
    "res=sm.OLS(Yt,Xt).fit()\n",
    "print res.summary() "
   ]
  },
  {
   "cell_type": "code",
   "execution_count": 349,
   "metadata": {
    "collapsed": false
   },
   "outputs": [
    {
     "name": "stdout",
     "output_type": "stream",
     "text": [
      "(5, 2645)\n",
      "(2645, 5)\n",
      "(2645, 1)\n"
     ]
    }
   ],
   "source": [
    "# --------------------\n",
    "# Do the same for all neighborhoods\n",
    "# --------------------\n",
    "\n",
    "concat = [0,1,2,3,4]\n",
    "t = []\n",
    "for i in concat:\n",
    "   t.append(X[:,i])\n",
    "Xt=np.array(t)\n",
    "print Xt.shape\n",
    "Xt=Xt.reshape((-1,len(concat)))\n",
    "Xtmax = np.amax(Xt,axis=0)\n",
    "for i in range(0,len(concat)):\n",
    "    Xt[:,i]=Xt[:,i]/Xtmax[i]\n",
    "print Xt.shape\n",
    "Yt=np.array(X[:,5]).reshape(-1,1)\n",
    "Ytmax = np.amax(Yt)\n",
    "Yt = Yt/Ytmax\n",
    "print Yt.shape"
   ]
  },
  {
   "cell_type": "code",
   "execution_count": 350,
   "metadata": {
    "collapsed": false,
    "scrolled": false
   },
   "outputs": [
    {
     "name": "stdout",
     "output_type": "stream",
     "text": [
      "[array([[-0.12254491,  0.02690248,  0.02695934,  0.13819696,  0.01101943]])]\n",
      "[ 0.40926343]\n"
     ]
    }
   ],
   "source": [
    "liregr = linear_model.LinearRegression()\n",
    "liregr.fit(Xt, Yt)\n",
    "print [liregr.coef_]\n",
    "print liregr.intercept_"
   ]
  },
  {
   "cell_type": "code",
   "execution_count": 351,
   "metadata": {
    "collapsed": false
   },
   "outputs": [
    {
     "data": {
      "text/plain": [
       "<matplotlib.text.Text at 0x1126e06d0>"
      ]
     },
     "execution_count": 351,
     "metadata": {},
     "output_type": "execute_result"
    },
    {
     "data": {
      "image/png": "[encoded data removed]",
      "text/plain": [
       "<matplotlib.figure.Figure at 0x111f891d0>"
      ]
     },
     "metadata": {},
     "output_type": "display_data"
    }
   ],
   "source": [
    "ols_prediction = liregr.predict(Xt)\n",
    "plt.scatter(Yt,liregr.predict(Xt),color='red')\n",
    "plt.xlabel('Actual Y')\n",
    "plt.ylabel('Predicted Y')"
   ]
  },
  {
   "cell_type": "code",
   "execution_count": 352,
   "metadata": {
    "collapsed": false
   },
   "outputs": [
    {
     "name": "stdout",
     "output_type": "stream",
     "text": [
      "                            OLS Regression Results                            \n",
      "==============================================================================\n",
      "Dep. Variable:                      y   R-squared:                       0.001\n",
      "Model:                            OLS   Adj. R-squared:                 -0.000\n",
      "Method:                 Least Squares   F-statistic:                    0.7560\n",
      "Date:                Mon, 20 Feb 2017   Prob (F-statistic):              0.582\n",
      "Time:                        13:59:51   Log-Likelihood:                 1021.2\n",
      "No. Observations:                2645   AIC:                            -2030.\n",
      "Df Residuals:                    2639   BIC:                            -1995.\n",
      "Df Model:                           5                                         \n",
      "Covariance Type:            nonrobust                                         \n",
      "==============================================================================\n",
      "                 coef    std err          t      P>|t|      [95.0% Conf. Int.]\n",
      "------------------------------------------------------------------------------\n",
      "const          0.4093      0.003    118.773      0.000         0.403     0.416\n",
      "x1            -0.1225      0.098     -1.248      0.212        -0.315     0.070\n",
      "x2             0.0269      0.068      0.398      0.690        -0.105     0.159\n",
      "x3             0.0270      0.142      0.190      0.850        -0.252     0.306\n",
      "x4             0.1382      0.093      1.481      0.139        -0.045     0.321\n",
      "x5             0.0110      0.070      0.158      0.874        -0.125     0.148\n",
      "==============================================================================\n",
      "Omnibus:                      220.504   Durbin-Watson:                   2.050\n",
      "Prob(Omnibus):                  0.000   Jarque-Bera (JB):              195.409\n",
      "Skew:                          -0.593   Prob(JB):                     3.69e-43\n",
      "Kurtosis:                       2.396   Cond. No.                         44.8\n",
      "==============================================================================\n",
      "\n",
      "Warnings:\n",
      "[1] Standard Errors assume that the covariance matrix of the errors is correctly specified.\n"
     ]
    }
   ],
   "source": [
    "Xt = sm.add_constant(Xt)\n",
    "res=sm.OLS(Yt,Xt).fit()\n",
    "print res.summary() "
   ]
  },
  {
   "cell_type": "code",
   "execution_count": 354,
   "metadata": {
    "collapsed": false
   },
   "outputs": [
    {
     "name": "stdout",
     "output_type": "stream",
     "text": [
      "(2645, 5)\n",
      "(2645, 1)\n",
      "[ 0.41961844  0.24151837  0.15065059  0.12501855  0.06319404]\n"
     ]
    },
    {
     "data": {
      "image/png": "[encoded data removed]",
      "text/plain": [
       "<matplotlib.figure.Figure at 0x11184dbd0>"
      ]
     },
     "metadata": {},
     "output_type": "display_data"
    }
   ],
   "source": [
    "# --------------------\n",
    "# PCA on raw data, normalized\n",
    "# --------------------\n",
    "\n",
    "redata = open('manhattan-dof.csv', \"r\")\n",
    "csvReader = csv.reader(redata,delimiter=';')\n",
    "next(csvReader)\n",
    "\n",
    "redata = open('manhattan-dof.csv', \"r\")\n",
    "csvReader = csv.reader(redata,delimiter=',')\n",
    "next(csvReader)\n",
    "\n",
    "X = np.array([r for r in csvReader])\n",
    "X = X.astype(np.float)\n",
    "\n",
    "concat = [0,1,2,3,4]\n",
    "t = []\n",
    "for i in concat:\n",
    "   t.append(X[:,i])\n",
    "Xt=np.array(t)\n",
    "Xt=Xt.reshape((-1,len(concat)))\n",
    "Xtmax = np.amax(Xt,axis=0)\n",
    "for i in range(0,len(concat)):\n",
    "    Xt[:,i]=Xt[:,i]/Xtmax[i]\n",
    "print Xt.shape\n",
    "\n",
    "Yt=np.array(X[:,5]).reshape(-1,1)\n",
    "Ytmax = np.amax(Yt)\n",
    "Yt = Yt/Ytmax\n",
    "print Yt.shape\n",
    "\n",
    "n=5 # how many eigenvectors we choose\n",
    "pca = PCA(n)\n",
    "Xproj = pca.fit_transform(Xt)\n",
    "eigenvalues = pca.explained_variance_ratio_\n",
    "print pca.explained_variance_ratio_\n",
    "plt.plot(np.arange(n), eigenvalues,'o');\n",
    "plt.xlabel(\"Dimensionality\")\n",
    "plt.ylabel(\"Explained Variance Ratio\")\n",
    "plt.show()"
   ]
  },
  {
   "cell_type": "code",
   "execution_count": 355,
   "metadata": {
    "collapsed": false,
    "scrolled": true
   },
   "outputs": [
    {
     "name": "stdout",
     "output_type": "stream",
     "text": [
      "[  2.80371819e+10   2.73353917e+03   3.68838373e+02   8.11850610e+01\n",
      "   6.95787814e+00   2.37238479e-01]\n",
      "[  9.99999886e-01   9.74969194e-08   1.31553282e-08   2.89562097e-09\n",
      "   2.48166074e-10   8.46156552e-12]\n"
     ]
    },
    {
     "data": {
      "image/png": "[encoded data removed]",
      "text/plain": [
       "<matplotlib.figure.Figure at 0x1122d67d0>"
      ]
     },
     "metadata": {},
     "output_type": "display_data"
    }
   ],
   "source": [
    "# --------------------\n",
    "# PCA on raw data, NOT normalized\n",
    "# --------------------\n",
    "\n",
    "redata = open('manhattan-dof.csv', \"r\")\n",
    "csvReader = csv.reader(redata,delimiter=',')\n",
    "next(csvReader)\n",
    "\n",
    "X = np.array([r for r in csvReader])\n",
    "X = X.astype(np.float)\n",
    "\n",
    "tpca=PCA()\n",
    "tpca.fit(X)\n",
    "print(tpca.explained_variance_)\n",
    "print(tpca.explained_variance_ratio_)\n",
    "\n",
    "plt.figure(1)\n",
    "plt.plot(np.arange(len(tpca.explained_variance_ratio_)),tpca.explained_variance_ratio_, 'o')\n",
    "plt.xlabel(\"Dimensionality\")\n",
    "plt.ylabel(\"Explained Variance Ratio\")\n",
    "plt.show()"
   ]
  },
  {
   "cell_type": "code",
   "execution_count": 356,
   "metadata": {
    "collapsed": false
   },
   "outputs": [
    {
     "name": "stdout",
     "output_type": "stream",
     "text": [
      "(2645, 5)\n",
      "(2645, 1)\n",
      "                            OLS Regression Results                            \n",
      "==============================================================================\n",
      "Dep. Variable:                      y   R-squared:                       0.001\n",
      "Model:                            OLS   Adj. R-squared:                 -0.000\n",
      "Method:                 Least Squares   F-statistic:                    0.7560\n",
      "Date:                Mon, 20 Feb 2017   Prob (F-statistic):              0.582\n",
      "Time:                        14:00:09   Log-Likelihood:                 1021.2\n",
      "No. Observations:                2645   AIC:                            -2030.\n",
      "Df Residuals:                    2639   BIC:                            -1995.\n",
      "Df Model:                           5                                         \n",
      "Covariance Type:            nonrobust                                         \n",
      "==============================================================================\n",
      "                 coef    std err          t      P>|t|      [95.0% Conf. Int.]\n",
      "------------------------------------------------------------------------------\n",
      "const          0.4101      0.003    128.079      0.000         0.404     0.416\n",
      "x1            -0.0379      0.056     -0.682      0.496        -0.147     0.071\n",
      "x2            -0.0113      0.073     -0.155      0.877        -0.155     0.132\n",
      "x3            -0.0441      0.093     -0.475      0.635        -0.226     0.138\n",
      "x4            -0.1773      0.102     -1.741      0.082        -0.377     0.022\n",
      "x5            -0.0273      0.143     -0.190      0.849        -0.308     0.254\n",
      "==============================================================================\n",
      "Omnibus:                      220.504   Durbin-Watson:                   2.050\n",
      "Prob(Omnibus):                  0.000   Jarque-Bera (JB):              195.409\n",
      "Skew:                          -0.593   Prob(JB):                     3.69e-43\n",
      "Kurtosis:                       2.396   Cond. No.                         44.8\n",
      "==============================================================================\n",
      "\n",
      "Warnings:\n",
      "[1] Standard Errors assume that the covariance matrix of the errors is correctly specified.\n"
     ]
    }
   ],
   "source": [
    "# --------------------\n",
    "# Linear Regression after projecting normalized X data onto 5 principal components\n",
    "# --------------------\n",
    "\n",
    "print Xproj.shape\n",
    "print Yt.shape\n",
    "Xproj = sm.add_constant(Xproj)\n",
    "res=sm.OLS(Yt,Xproj).fit()\n",
    "print res.summary() "
   ]
  },
  {
   "cell_type": "code",
   "execution_count": 357,
   "metadata": {
    "collapsed": false
   },
   "outputs": [
    {
     "data": {
      "text/plain": [
       "<matplotlib.text.Text at 0x1131af1d0>"
      ]
     },
     "execution_count": 357,
     "metadata": {},
     "output_type": "execute_result"
    },
    {
     "data": {
      "image/png": "[encoded data removed]",
      "text/plain": [
       "<matplotlib.figure.Figure at 0x1116c5590>"
      ]
     },
     "metadata": {},
     "output_type": "display_data"
    }
   ],
   "source": [
    "liregr = linear_model.LinearRegression()\n",
    "liregr.fit(Xproj, Yt)\n",
    "plt.scatter(Yt,liregr.predict(Xproj),color='red')\n",
    "plt.xlabel('Actual Y')\n",
    "plt.ylabel('Predicted Y')"
   ]
  },
  {
   "cell_type": "markdown",
   "metadata": {},
   "source": [
    "This looks exactly the same as our linear regression on the raw (normalized) data before projecting onto principal components. This is expected, because we're keeping all five principal components. All that is essentially happening is a rotation of the \"coordinate system\". Let's check the errors, they should be the same. I saved the predictions from the simple OLS in a variable ols_prediction earlier."
   ]
  },
  {
   "cell_type": "code",
   "execution_count": 358,
   "metadata": {
    "collapsed": false
   },
   "outputs": [
    {
     "name": "stdout",
     "output_type": "stream",
     "text": [
      "MSE of Linear Model on PCA-featured normalized data:  0.0270504267978\n"
     ]
    }
   ],
   "source": [
    "print \"MSE of Linear Model on PCA-featured normalized data: \", np.mean((liregr.predict(Xproj) - Yt) ** 2)"
   ]
  },
  {
   "cell_type": "code",
   "execution_count": 359,
   "metadata": {
    "collapsed": false
   },
   "outputs": [
    {
     "name": "stdout",
     "output_type": "stream",
     "text": [
      "MSE of Linear Model on normalized data:  0.0270504267978\n"
     ]
    }
   ],
   "source": [
    "print \"MSE of Linear Model on normalized data: \", np.mean((ols_prediction - Yt) ** 2)"
   ]
  },
  {
   "cell_type": "markdown",
   "metadata": {},
   "source": [
    "Now, let's keep only the first three principal components. I chose the first three via the \"elbow\" method, where there appears to be a slight inflection point. By incrementally increasing the number of principal components, I find that the mean square error approaches the mean square error of the regular linear model and that the percentage of explain variances approaches 100%. With three principal components, approximately 81% of the variance in the data is preserved."
   ]
  },
  {
   "cell_type": "code",
   "execution_count": 360,
   "metadata": {
    "collapsed": false
   },
   "outputs": [
    {
     "name": "stdout",
     "output_type": "stream",
     "text": [
      "Percentage of variance in data explained by the first 1 eigenvectors:  0.419618440575\n",
      "MSE of Linear Model - projecting on 1 Principal Components:  0.0270844125599\n",
      "\n",
      "Percentage of variance in data explained by the first 2 eigenvectors:  0.661136813335\n",
      "MSE of Linear Model - projecting on 2 Principal Components:  0.0270841667294\n",
      "\n",
      "Percentage of variance in data explained by the first 3 eigenvectors:  0.811787404927\n",
      "MSE of Linear Model - projecting on 3 Principal Components:  0.0270818541033\n",
      "\n",
      "Percentage of variance in data explained by the first 4 eigenvectors:  0.936805957762\n",
      "MSE of Linear Model - projecting on 4 Principal Components:  0.0270507979912\n",
      "\n",
      "Percentage of variance in data explained by the first 5 eigenvectors:  1.0\n",
      "MSE of Linear Model - projecting on 5 Principal Components:  0.0270504267978\n",
      "\n"
     ]
    }
   ],
   "source": [
    "# --------------------\n",
    "# PCA on raw data, normalized\n",
    "# --------------------\n",
    "\n",
    "redata = open('manhattan-dof.csv', \"r\")\n",
    "csvReader = csv.reader(redata,delimiter=';')\n",
    "next(csvReader)\n",
    "\n",
    "redata = open('manhattan-dof.csv', \"r\")\n",
    "csvReader = csv.reader(redata,delimiter=',')\n",
    "next(csvReader)\n",
    "\n",
    "X = np.array([r for r in csvReader])\n",
    "X = X.astype(np.float)\n",
    "\n",
    "concat = [0,1,2,3,4]\n",
    "t = []\n",
    "for i in concat:\n",
    "   t.append(X[:,i])\n",
    "Xt=np.array(t)\n",
    "Xt=Xt.reshape((-1,len(concat)))\n",
    "Xtmax = np.amax(Xt,axis=0)\n",
    "for i in range(0,len(concat)):\n",
    "    Xt[:,i]=Xt[:,i]/Xtmax[i]\n",
    "\n",
    "Yt=np.array(X[:,5]).reshape(-1,1)\n",
    "Ytmax = np.amax(Yt)\n",
    "Yt = Yt/Ytmax\n",
    "\n",
    "for i in range(1,6):\n",
    "    n=i # how many eigenvectors we choose\n",
    "    pca = PCA(n)\n",
    "    xB = pca.fit(Xt)\n",
    "    Xproj = pca.fit_transform(Xt)\n",
    "\n",
    "    liregr = linear_model.LinearRegression()\n",
    "    liregr.fit(Xproj, Yt)\n",
    "    print \"Percentage of variance in data explained by the first {} eigenvectors: \".format(i),sum(xB.explained_variance_ratio_)\n",
    "\n",
    "#     plt.scatter(Yt,liregr.predict(Xproj),color='red')\n",
    "#     plt.xlabel('Actual Y')\n",
    "#     plt.ylabel('Predicted Y')\n",
    "    print \"MSE of Linear Model - projecting on {} Principal Components: \".format(i), np.mean((liregr.predict(Xproj) - Yt) ** 2)\n",
    "    print\n",
    "#     eigenvalues = pca.explained_variance_ratio_\n",
    "#     plt.plot(np.arange(n), eigenvalues,'o');\n",
    "#     plt.xlabel(\"Dimensionality\")\n",
    "#     plt.ylabel(\"Explained Variance Ratio\")\n",
    "#     plt.show()"
   ]
  },
  {
   "cell_type": "markdown",
   "metadata": {},
   "source": [
    "So far, we have treated the variables for neighborhood and building classification as though they have a linear relationship with the market value per square foot of the building. In reality, this makes little sense. It would make more sense to remove those variables or change them to dummy variables. In using PCA to project our raw data and then only selecting the first three principle components to fit the linear model, I can reduce the effect of the \"noise\" that these non-linear variables introduce to the non-PCA-featured linear model. The inclusion of these two categorical variables can lead to overfitting of the data. I demonstrate this with cross-validation in the next step."
   ]
  },
  {
   "cell_type": "code",
   "execution_count": 367,
   "metadata": {
    "collapsed": false
   },
   "outputs": [
    {
     "name": "stdout",
     "output_type": "stream",
     "text": [
      "(2645, 3)\n",
      "(2645, 1)\n"
     ]
    }
   ],
   "source": [
    "#Let's remove neighborhood and building classification from our original linear model:\n",
    "\n",
    "concat = [2,3,4]\n",
    "t = []\n",
    "for i in concat:\n",
    "   t.append(X[:,i])\n",
    "X_cat_removed =np.array(t)\n",
    "X_cat_removed=X_cat_removed.reshape((-1,len(concat)))\n",
    "Xt_cat_max = np.amax(X_cat_removed,axis=0)\n",
    "for i in range(0,len(concat)):\n",
    "    X_cat_removed[:,i]=X_cat_removed[:,i]/Xt_cat_max[i]\n",
    "print X_cat_removed.shape\n",
    "print Yt.shape"
   ]
  },
  {
   "cell_type": "code",
   "execution_count": 368,
   "metadata": {
    "collapsed": false,
    "scrolled": true
   },
   "outputs": [
    {
     "name": "stdout",
     "output_type": "stream",
     "text": [
      "                            OLS Regression Results                            \n",
      "==============================================================================\n",
      "Dep. Variable:                      y   R-squared:                       0.001\n",
      "Model:                            OLS   Adj. R-squared:                  0.000\n",
      "Method:                 Least Squares   F-statistic:                     1.099\n",
      "Date:                Mon, 20 Feb 2017   Prob (F-statistic):              0.348\n",
      "Time:                        14:10:35   Log-Likelihood:                 1021.0\n",
      "No. Observations:                2645   AIC:                            -2034.\n",
      "Df Residuals:                    2641   BIC:                            -2010.\n",
      "Df Model:                           3                                         \n",
      "Covariance Type:            nonrobust                                         \n",
      "==============================================================================\n",
      "                 coef    std err          t      P>|t|      [95.0% Conf. Int.]\n",
      "------------------------------------------------------------------------------\n",
      "const          0.4101      0.004    116.111      0.000         0.403     0.417\n",
      "x1            -0.0626      0.085     -0.733      0.464        -0.230     0.105\n",
      "x2             0.1038      0.069      1.507      0.132        -0.031     0.239\n",
      "x3            -0.1151      0.124     -0.926      0.355        -0.359     0.129\n",
      "==============================================================================\n",
      "Omnibus:                      220.570   Durbin-Watson:                   2.050\n",
      "Prob(Omnibus):                  0.000   Jarque-Bera (JB):              196.891\n",
      "Skew:                          -0.597   Prob(JB):                     1.76e-43\n",
      "Kurtosis:                       2.399   Cond. No.                         39.2\n",
      "==============================================================================\n",
      "\n",
      "Warnings:\n",
      "[1] Standard Errors assume that the covariance matrix of the errors is correctly specified.\n"
     ]
    }
   ],
   "source": [
    "X_cat_removed = sm.add_constant(X_cat_removed)\n",
    "res_again =sm.OLS(Yt,X_cat_removed).fit()\n",
    "print res_again.summary() "
   ]
  },
  {
   "cell_type": "code",
   "execution_count": 387,
   "metadata": {
    "collapsed": false
   },
   "outputs": [
    {
     "name": "stdout",
     "output_type": "stream",
     "text": [
      "(2645, 3)\n",
      "(2645, 1)\n",
      "[ 0.547905    0.30564283  0.14645216]\n"
     ]
    },
    {
     "data": {
      "image/png": "[encoded data removed]",
      "text/plain": [
       "<matplotlib.figure.Figure at 0x111d63510>"
      ]
     },
     "metadata": {},
     "output_type": "display_data"
    }
   ],
   "source": [
    "# --------------------\n",
    "# PCA on data, after removing categorical variables\n",
    "# --------------------\n",
    "\n",
    "redata = open('manhattan-dof.csv', \"r\")\n",
    "csvReader = csv.reader(redata,delimiter=';')\n",
    "next(csvReader)\n",
    "\n",
    "redata = open('manhattan-dof.csv', \"r\")\n",
    "csvReader = csv.reader(redata,delimiter=',')\n",
    "next(csvReader)\n",
    "\n",
    "X = np.array([r for r in csvReader])\n",
    "X = X.astype(np.float)\n",
    "\n",
    "concat = [2,3,4]\n",
    "t = []\n",
    "for i in concat:\n",
    "   t.append(X[:,i])\n",
    "X_cat_removed =np.array(t)\n",
    "X_cat_removed=X_cat_removed.reshape((-1,len(concat)))\n",
    "Xt_cat_max = np.amax(X_cat_removed,axis=0)\n",
    "for i in range(0,len(concat)):\n",
    "    X_cat_removed[:,i]=X_cat_removed[:,i]/Xt_cat_max[i]\n",
    "print X_cat_removed.shape\n",
    "print Yt.shape\n",
    "\n",
    "n=3 # how many eigenvectors we choose\n",
    "pca = PCA(n)\n",
    "Xproj_noncat = pca.fit_transform(X_cat_removed)\n",
    "eigenvalues = pca.explained_variance_ratio_\n",
    "print pca.explained_variance_ratio_\n",
    "plt.plot(np.arange(n), eigenvalues,'o');\n",
    "plt.xlabel(\"Dimensionality\")\n",
    "plt.ylabel(\"Explained Variance Ratio\")\n",
    "plt.show()"
   ]
  },
  {
   "cell_type": "code",
   "execution_count": 374,
   "metadata": {
    "collapsed": false
   },
   "outputs": [
    {
     "name": "stdout",
     "output_type": "stream",
     "text": [
      "(2645, 3)\n",
      "(2645, 1)\n",
      "                            OLS Regression Results                            \n",
      "==============================================================================\n",
      "Dep. Variable:                      y   R-squared:                       0.001\n",
      "Model:                            OLS   Adj. R-squared:                  0.000\n",
      "Method:                 Least Squares   F-statistic:                     1.099\n",
      "Date:                Mon, 20 Feb 2017   Prob (F-statistic):              0.348\n",
      "Time:                        14:12:40   Log-Likelihood:                 1021.0\n",
      "No. Observations:                2645   AIC:                            -2034.\n",
      "Df Residuals:                    2641   BIC:                            -2010.\n",
      "Df Model:                           3                                         \n",
      "Covariance Type:            nonrobust                                         \n",
      "==============================================================================\n",
      "                 coef    std err          t      P>|t|      [95.0% Conf. Int.]\n",
      "------------------------------------------------------------------------------\n",
      "const          0.4101      0.003    128.116      0.000         0.404     0.416\n",
      "x1             0.0596      0.065      0.918      0.359        -0.068     0.187\n",
      "x2            -0.1144      0.087     -1.317      0.188        -0.285     0.056\n",
      "x3            -0.1064      0.126     -0.847      0.397        -0.352     0.140\n",
      "==============================================================================\n",
      "Omnibus:                      220.570   Durbin-Watson:                   2.050\n",
      "Prob(Omnibus):                  0.000   Jarque-Bera (JB):              196.891\n",
      "Skew:                          -0.597   Prob(JB):                     1.76e-43\n",
      "Kurtosis:                       2.399   Cond. No.                         39.2\n",
      "==============================================================================\n",
      "\n",
      "Warnings:\n",
      "[1] Standard Errors assume that the covariance matrix of the errors is correctly specified.\n"
     ]
    }
   ],
   "source": [
    "# --------------------\n",
    "# Linear Regression after projecting normalized non-categorical data onto 3 principal components\n",
    "# --------------------\n",
    "\n",
    "print Xproj_noncat.shape\n",
    "print Yt.shape\n",
    "Xproj_noncat = sm.add_constant(Xproj_noncat)\n",
    "res=sm.OLS(Yt,Xproj_noncat).fit()\n",
    "print res.summary() "
   ]
  },
  {
   "cell_type": "code",
   "execution_count": 404,
   "metadata": {
    "collapsed": false
   },
   "outputs": [
    {
     "name": "stdout",
     "output_type": "stream",
     "text": [
      "In Sample R-squared for 1000 times is 0.00160270206617\n",
      "Out of Sample R-squared for 1000 times is -0.00655440482823\n"
     ]
    }
   ],
   "source": [
    "# Using cross validation on the non-PCA-featured linear model\n",
    "\n",
    "R_IS=[]\n",
    "R_OS=[]\n",
    "\n",
    "n=1000\n",
    "from sklearn.cross_validation import train_test_split\n",
    "for i in range(n):\n",
    "    X_train, X_test, y_train, y_test = train_test_split(Xt, Yt, test_size=0.10) #10% goes to validation data, 90% goes to training\n",
    "    res=linear_model.LinearRegression()\n",
    "    res.fit(X_train,y_train)\n",
    "    R_IS.append(1-((np.asarray(res.predict(X_train))-y_train)**2).sum()/((y_train-np.mean(y_train))**2).sum())                                                                     \n",
    "\n",
    "#     print 1-((np.asarray(res.predict(X_train))-y_train)**2).sum()/((y_train-np.mean(y_train))**2).sum()\n",
    "    \n",
    "    X_train = sm.add_constant(X_train)\n",
    "    res_again =sm.OLS(y_train,X_train).fit()\n",
    "#     print res_again.rsquared\n",
    "    \n",
    "    R_OS.append(1-((np.asarray(res.predict(X_test))-y_test)**2).sum()/((y_test-np.mean(y_test))**2).sum())\n",
    "print(\"In Sample R-squared for {} times is {}\".format(n,np.mean(R_IS)))\n",
    "print(\"Out of Sample R-squared for {} times is {}\".format(n,np.mean(R_OS)))"
   ]
  },
  {
   "cell_type": "code",
   "execution_count": 407,
   "metadata": {
    "collapsed": false
   },
   "outputs": [
    {
     "name": "stdout",
     "output_type": "stream",
     "text": [
      "In Sample R-squared for 1000 times is 0.00043842429454\n",
      "Out of Sample R-squared for 1000 times is -0.00640767087405\n"
     ]
    }
   ],
   "source": [
    "# Using cross validation on PCA-featured linear regression\n",
    "# for each loop, split the data set to train and validation set\n",
    "# Use PCA only on training set to find the siginificant eigenvectors(directions)\n",
    "# Then transform the test data the same way and pick the same eigenvectors for regression.\n",
    "\n",
    "R_IS=[]\n",
    "R_OS=[]\n",
    "\n",
    "n=1000\n",
    "for i in range(n):\n",
    "    X_train, X_test, y_train, y_test = train_test_split(Xt, Yt, test_size=0.10) #10% goes to validation data, 90% goes to training\n",
    "    num_eigenvectors = 3\n",
    "    pca = PCA(num_eigenvectors) # Create the model\n",
    "    pca.fit(X_train) # Fit only training data\n",
    "\n",
    "    Xproj_train = pca.transform(X_train) # Project training data onto dimensions of model fitted by X_train\n",
    "    Xproj_test = pca.transform(X_test) # Project test data onto dimensions of model fitted by X_train\n",
    "    \n",
    "    res=linear_model.LinearRegression()\n",
    "    res.fit(Xproj_train,y_train) # Linear regression on the Xproj_train\n",
    "    \n",
    "    R_OS.append(1-((np.asarray(res.predict(Xproj_test))-y_test)**2).sum()/((y_test-np.mean(y_test))**2).sum())\n",
    "    R_IS.append(1-((np.asarray(res.predict(Xproj_train))-y_train)**2).sum()/((y_train-np.mean(y_train))**2).sum())                                                                     \n",
    "\n",
    "print(\"In Sample R-squared for {} times is {}\".format(n,np.mean(R_IS)))\n",
    "print(\"Out of Sample R-squared for {} times is {}\".format(n,np.mean(R_OS)))"
   ]
  },
  {
   "cell_type": "markdown",
   "metadata": {},
   "source": [
    "I believe this is giving me wrong results, but it appears that the out-of-sample R-squared terms for both the PCA-featured and non-PCA featured linear models are quite bad. The only way to get a negative R-squared term is to have a model so bad that you would have done better simply predicting the mean Y value. However, it is interesting to note that the in-sample R-squared for the non-PCA-featured linear model is slightly higher than the in-sample R-squared of the PCA-featured linear model, yet both of their out-of-sample R-squareds are equally bad. This may indicate that our PCA-featured linear model is less overfit."
   ]
  },
  {
   "cell_type": "code",
   "execution_count": 424,
   "metadata": {
    "collapsed": false
   },
   "outputs": [
    {
     "name": "stdout",
     "output_type": "stream",
     "text": [
      "(2645, 5)\n",
      "(2645, 1)\n",
      "(array([[-0.12254491,  0.02690248,  0.02695934,  0.13819696,  0.01101943]]), array([ 0.40926343]))\n",
      "(array([[-0.02208783,  0.01298747,  0.00429333,  0.03277424,  0.00704553]]), array([ 0.40968131]))\n",
      "(array([-0.00617478,  0.        ,  0.        ,  0.05455419,  0.        ]), array([ 0.40968131]))\n",
      "('MSE Linear (red): %.2f', 0.027050426797810247)\n",
      "('MSE Ridge (green): %.2f', 0.027073035722201187)\n",
      "('MSE Lasso (black): %.2f', 0.027092958974874067)\n"
     ]
    },
    {
     "data": {
      "image/png": "[encoded data removed]",
      "text/plain": [
       "<matplotlib.figure.Figure at 0x112e62a50>"
      ]
     },
     "metadata": {},
     "output_type": "display_data"
    }
   ],
   "source": [
    "from mpl_toolkits.mplot3d import Axes3D\n",
    "import matplotlib.pyplot as plt\n",
    "import numpy as np\n",
    "from sklearn import linear_model\n",
    "import csv\n",
    "\n",
    "redata = open('manhattan-dof.csv', \"r\")\n",
    "csvReader = csv.reader(redata,delimiter=',')\n",
    "next(csvReader)\n",
    "\n",
    "X = np.array([r for r in csvReader])\n",
    "X = X.astype(np.float)\n",
    "\n",
    "# --------------------\n",
    "# filtering data\n",
    "# --------------------\n",
    "# c = 0\n",
    "# idx = np.where((X[:,0] == 4) & (X[:,3] <= 35000) & (X[:,5] > 100 ))\n",
    "# idx = np.where((X[:,0] == 4) & (X[:,3] <= 35000) & (X[:,5] > 180 - 0.00054606*X[:,3]))\n",
    "# idx = np.X\n",
    "# --------------------\n",
    "# all other variables to predict MarketValueperSqFt\n",
    "# --------------------\n",
    "concat = [0,1,2,3,4]\n",
    "t = []\n",
    "for i in concat:\n",
    "   t.append(X[:,i])\n",
    "Xt=np.array(t)\n",
    "Xt=Xt.reshape((-1,len(concat)))\n",
    "Xtmax = np.amax(Xt,axis=0)\n",
    "for i in range(0,len(concat)):\n",
    "    Xt[:,i]=Xt[:,i]/Xtmax[i]\n",
    "print Xt.shape\n",
    "Yt=np.array(X[:,5]).reshape(-1,1)\n",
    "Ytmax = np.amax(Yt)\n",
    "Yt = Yt/Ytmax\n",
    "print Yt.shape\n",
    "\n",
    "# --------------------\n",
    "# making the linear regression\n",
    "# --------------------\n",
    "liregr = linear_model.LinearRegression()\n",
    "riregr = linear_model.Ridge(alpha=1.0e1)\n",
    "laregr = linear_model.Lasso(alpha=1.0e-4)\n",
    "liregr.fit(Xt, Yt)\n",
    "riregr.fit(Xt, Yt)\n",
    "laregr.fit(Xt, Yt)\n",
    "print(liregr.coef_,liregr.intercept_)\n",
    "print(riregr.coef_,riregr.intercept_)\n",
    "print(laregr.coef_,riregr.intercept_)\n",
    "\n",
    "print(\"MSE Linear (red): %.2f\", np.mean((liregr.predict(Xt) - Yt) ** 2))\n",
    "print(\"MSE Ridge (green): %.2f\", np.mean((riregr.predict(Xt) - Yt) ** 2))\n",
    "print(\"MSE Lasso (black): %.2f\", np.mean((laregr.predict(Xt) - Yt) ** 2))\n",
    "plt.scatter(Yt,liregr.predict(Xt),color='red')\n",
    "plt.scatter(Yt,riregr.predict(Xt),color='green')\n",
    "plt.scatter(Yt,laregr.predict(Xt),color='black')\n",
    "\n",
    "\n",
    "# --------------------\n",
    "# several variables to predict MarketValueperSqFt\n",
    "# --------------------\n",
    "# concat = [2,3,4]\n",
    "# t = []\n",
    "# for i in concat:\n",
    "#    t.append(X[idx,i])\n",
    "# Xt=np.array(t)\n",
    "# Xt=Xt.reshape((-1,len(concat)))\n",
    "# Yt=np.array(X[idx,5]).reshape(-1,1)\n",
    "# Xtmax = np.amax(Xt,axis=0)\n",
    "# for i in range(0,len(concat)):\n",
    "#    Xt[:,i]=Xt[:,i]/Xtmax[i]\n",
    "# Ytmax = np.amax(Yt)\n",
    "# Yt = Yt/Ytmax\n",
    "# fig = plt.figure()\n",
    "# ax = fig.add_subplot(111, projection='3d')\n",
    "# ax.scatter(Xt[:,0], Xt[:,1], Yt)\n",
    "# ax.scatter(Xt[:,0], Xt[:,1], liregr.predict(Xt),color='red')\n",
    "# ax.scatter(Xt[:,0], Xt[:,1], riregr.predict(Xt),color='green')\n",
    "# ax.scatter(Xt[:,0], Xt[:,1], laregr.predict(Xt),color='black')\n",
    "\n",
    "# --------------------\n",
    "# exploring regularization values\n",
    "# --------------------\n",
    "# a =  np.linspace(0.01,10,50)\n",
    "# eri = []\n",
    "# ela = []\n",
    "# pari = []\n",
    "# pala = []\n",
    "# for i in a:\n",
    "#    riregr = linear_model.Ridge(alpha=i)\n",
    "#    riregr.fit(Xt, Yt)\n",
    "#    eri.append(np.mean((riregr.predict(Xt) - Yt) ** 2)) # MSE ridge\n",
    "#    pari.append(riregr.coef_)\n",
    "#\n",
    "#    laregr = linear_model.Lasso(alpha=i)\n",
    "#    laregr.fit(Xt, Yt)\n",
    "#    ela.append(np.mean((laregr.predict(Xt) - Yt) ** 2)) # MSE lasso\n",
    "#    pala.append(laregr.coef_)\n",
    "#\n",
    "# plt.figure(1)\n",
    "# plt.plot(a,eri,color='red')\n",
    "# plt.plot(a,ela,color='green')\n",
    "#\n",
    "# plt.figure(2)\n",
    "# plt.plot([i[0] for i in pari], color = 'red')\n",
    "# plt.plot([i[0] for i in pala], color = 'green')\n",
    "#\n",
    "# print(\"Ridge min: \", min(eri))\n",
    "# print(\"Lasso min: \", min(ela))\n",
    "\n",
    "\n",
    "# --------------------\n",
    "# distribution per neighborhood / year\n",
    "# --------------------\n",
    "# plt.figure(2)\n",
    "# dnbr = dict((x,0) for x in X[:,c])\n",
    "# for x in X[:,c]:\n",
    "#    dnbr[x]+=1\n",
    "#\n",
    "# for i in dnbr:\n",
    "#    plt.scatter(i,dnbr[i],color='blue')\n",
    "#\n",
    "plt.show()\n"
   ]
  },
  {
   "cell_type": "code",
   "execution_count": null,
   "metadata": {
    "collapsed": true
   },
   "outputs": [],
   "source": []
  }
 ],
 "metadata": {
  "kernelspec": {
   "display_name": "Python 2",
   "language": "python",
   "name": "python2"
  },
  "language_info": {
   "codemirror_mode": {
    "name": "ipython",
    "version": 2
   },
   "file_extension": ".py",
   "mimetype": "text/x-python",
   "name": "python",
   "nbconvert_exporter": "python",
   "pygments_lexer": "ipython2",
   "version": "2.7.13"
  }
 },
 "nbformat": 4,
 "nbformat_minor": 0
}
